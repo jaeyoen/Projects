{
 "cells": [
  {
   "cell_type": "markdown",
   "id": "4f628890",
   "metadata": {},
   "source": [
    "JaeYoen Park 50194193"
   ]
  },
  {
   "cell_type": "markdown",
   "id": "41536259",
   "metadata": {},
   "source": [
    "MTH 448"
   ]
  },
  {
   "cell_type": "markdown",
   "id": "3c7da9f5",
   "metadata": {},
   "source": [
    "Due: 2023/05/14"
   ]
  },
  {
   "cell_type": "markdown",
   "id": "b99bec64",
   "metadata": {},
   "source": [
    "# Analysis of Marathon Results"
   ]
  },
  {
   "cell_type": "markdown",
   "id": "03a30f1b",
   "metadata": {},
   "source": [
    "## Introduction"
   ]
  },
  {
   "cell_type": "markdown",
   "id": "09c7ce7a",
   "metadata": {},
   "source": [
    "In field of analysis, there exists many different formats of data which require analyst to consider the best application in order to find the satisfying results. For one, we will analyze marathon records, which include times measured by gender, age, and distance. Since analysis and prediction are performed based on numerical data, we apply three major machine learning techniques: KDE with Bayes, K-NN, and Linear Regression.\n",
    "From this project, we will be separating into 4 sections where \n",
    "1. Predict the sex of runner with 1- dimensional kernel density estimation in finish time.\n",
    "2. Predict the sex of runner with 2- dimensional kernel density estimation in finish time and age.\n",
    "3. Predict the sex of runner with K-NN classifier then compare each with the KDE results.\n",
    "4. Predict the finish time with linear regression in 5k time and more.\n",
    "\n",
    "Our objective is to study the various applications to explore the accuracy of prediction and decide the ideal technique."
   ]
  },
  {
   "cell_type": "markdown",
   "id": "b50cce29",
   "metadata": {},
   "source": [
    "## Background"
   ]
  },
  {
   "cell_type": "markdown",
   "id": "6f0587d7",
   "metadata": {},
   "source": [
    "### Kernel Density Estimation"
   ]
  },
  {
   "cell_type": "markdown",
   "id": "22bc14a8",
   "metadata": {},
   "source": [
    "Kernel Density Estimation(KDE) is application of kernel smoothing for probability density estimation which non-parametric method to estimate the probability density of a random variable based on kernels as weights.[1]\n",
    "\n",
    "To estimate, we follow the equation\n",
    "\n",
    "$$\\hat{f}_h(x) = \\frac{1}{n} \\sum_{i=1}^n K_h(x -x_i) = \\frac{1}{nh} \\sum_{i=1}^n K(\\frac{x -x_i}{h})$$ \n",
    "\n",
    "where the bandwidth selection strongly effects the estimation.[2]\n",
    "\n",
    "To determine the best bandwidth as a best-fit model, we find the smallest log-likelihood of P(X) which is the KDE of finish times. According to several trial, we determined to use 0.01 as a bandwidth which returned the smallest result of -57243.80771063698.\n",
    "\n",
    "\n",
    "In this project, we will use the `gaussian_kde` from scipy library."
   ]
  },
  {
   "cell_type": "markdown",
   "id": "d7015dfb",
   "metadata": {},
   "source": [
    "### Naive Bayes"
   ]
  },
  {
   "cell_type": "markdown",
   "id": "803cf8c5",
   "metadata": {},
   "source": [
    "Naive Bayes methods are a set of supervised learning algorithms based on applying Bayes’ theorem with the “naive” assumption of conditional independence between every pair of features given the value of the class variable.[3]\n",
    "The idea of this equation is classify from one of the classified result $y$ by calculating the probability considering the conditions.\n",
    "$$\n",
    "p(y | (x_1, x_2, x_3, \\dots, x_N)) \\varpropto p(y) \\times \\prod^N_{k = 1} p(x_k | y)\n",
    "$$\n",
    "\n",
    "for $y \\in \\{\\text{valuables to be judged}\\}$.\n",
    "\n",
    "In this project, We will be using $\\log( P(y|x) )$ instead of $ P(y|x) $ to avoid underflow errors."
   ]
  },
  {
   "cell_type": "markdown",
   "id": "aa560a37",
   "metadata": {},
   "source": [
    "### K-NN"
   ]
  },
  {
   "cell_type": "markdown",
   "id": "301c6deb",
   "metadata": {},
   "source": [
    "K-NN stands for K- Nearest Neighbors. K-NN is an algorithm that is a non- parametric, supervised learning classifier. K-NN use Euclidean distance [4]\n",
    "\n",
    "$$d({\\bf v},{\\bf w}) = \\sqrt{\\sum_{i=1}^n (v_i -w_i)^2}$$\n",
    "\n",
    "In this project, we will be using `KNeighborsClassifier` function provided from sklearn library."
   ]
  },
  {
   "cell_type": "markdown",
   "id": "90c19892",
   "metadata": {},
   "source": [
    "### Linear Regression"
   ]
  },
  {
   "cell_type": "markdown",
   "id": "30de7aa3",
   "metadata": {},
   "source": [
    "Linear regression is a linear approach in modeling relation between a scalar response and one or more explanatory variables.[5] With variables shown as scattered plot, linear regression find best linear fit based on the mean squared errors which the error refers to the distance between the slope and each variables. There are cases of simple linear regression and multivariate linear regression based on the number of explanatory variable.\n",
    "\n",
    "In this project, we will be using `LinearRegression` provided from sklearn library."
   ]
  },
  {
   "cell_type": "markdown",
   "id": "b7252e7a",
   "metadata": {},
   "source": [
    "## Data Acquisition"
   ]
  },
  {
   "cell_type": "markdown",
   "id": "1d62408f",
   "metadata": {},
   "source": [
    "### Import Necessary Libraries and data"
   ]
  },
  {
   "cell_type": "code",
   "execution_count": 1,
   "id": "8e603219",
   "metadata": {},
   "outputs": [
    {
     "name": "stdout",
     "output_type": "stream",
     "text": [
      "%pylab is deprecated, use %matplotlib inline and import the required libraries.\n",
      "Populating the interactive namespace from numpy and matplotlib\n"
     ]
    }
   ],
   "source": [
    "%pylab inline\n",
    "import pandas as pd\n",
    "import seaborn as sns\n",
    "import matplotlib.pyplot as plt\n",
    "import numpy as np\n",
    "from scipy.stats import gaussian_kde\n",
    "from sklearn.model_selection import train_test_split\n",
    "from sklearn.metrics import confusion_matrix\n",
    "from sklearn.neighbors import KNeighborsClassifier\n",
    "from sklearn.linear_model import LinearRegression"
   ]
  },
  {
   "cell_type": "code",
   "execution_count": 2,
   "id": "e072ea8b",
   "metadata": {
    "scrolled": true
   },
   "outputs": [
    {
     "data": {
      "text/html": [
       "<div>\n",
       "<style scoped>\n",
       "    .dataframe tbody tr th:only-of-type {\n",
       "        vertical-align: middle;\n",
       "    }\n",
       "\n",
       "    .dataframe tbody tr th {\n",
       "        vertical-align: top;\n",
       "    }\n",
       "\n",
       "    .dataframe thead th {\n",
       "        text-align: right;\n",
       "    }\n",
       "</style>\n",
       "<table border=\"1\" class=\"dataframe\">\n",
       "  <thead>\n",
       "    <tr style=\"text-align: right;\">\n",
       "      <th></th>\n",
       "      <th>Age</th>\n",
       "      <th>M/F</th>\n",
       "      <th>Country</th>\n",
       "      <th>5K</th>\n",
       "      <th>10K</th>\n",
       "      <th>15K</th>\n",
       "      <th>20K</th>\n",
       "      <th>Half</th>\n",
       "      <th>25K</th>\n",
       "      <th>30K</th>\n",
       "      <th>35K</th>\n",
       "      <th>40K</th>\n",
       "      <th>Finish</th>\n",
       "      <th>Pace</th>\n",
       "      <th>Overall</th>\n",
       "      <th>Gender</th>\n",
       "      <th>Division</th>\n",
       "    </tr>\n",
       "  </thead>\n",
       "  <tbody>\n",
       "    <tr>\n",
       "      <th>20743</th>\n",
       "      <td>21</td>\n",
       "      <td>M</td>\n",
       "      <td>USA</td>\n",
       "      <td>00:29:39</td>\n",
       "      <td>00:56:32</td>\n",
       "      <td>01:23:45</td>\n",
       "      <td>01:50:10</td>\n",
       "      <td>01:56:01</td>\n",
       "      <td>02:17:20</td>\n",
       "      <td>02:47:05</td>\n",
       "      <td>03:22:28</td>\n",
       "      <td>03:57:32</td>\n",
       "      <td>04:12:36</td>\n",
       "      <td>00:09:39</td>\n",
       "      <td>20908</td>\n",
       "      <td>12089</td>\n",
       "      <td>4279</td>\n",
       "    </tr>\n",
       "    <tr>\n",
       "      <th>11424</th>\n",
       "      <td>52</td>\n",
       "      <td>M</td>\n",
       "      <td>USA</td>\n",
       "      <td>00:24:38</td>\n",
       "      <td>00:49:24</td>\n",
       "      <td>01:14:37</td>\n",
       "      <td>01:40:12</td>\n",
       "      <td>01:45:46</td>\n",
       "      <td>02:05:38</td>\n",
       "      <td>02:31:33</td>\n",
       "      <td>02:57:33</td>\n",
       "      <td>03:22:51</td>\n",
       "      <td>03:34:03</td>\n",
       "      <td>00:08:10</td>\n",
       "      <td>11468</td>\n",
       "      <td>8327</td>\n",
       "      <td>1065</td>\n",
       "    </tr>\n",
       "    <tr>\n",
       "      <th>16756</th>\n",
       "      <td>63</td>\n",
       "      <td>M</td>\n",
       "      <td>USA</td>\n",
       "      <td>00:26:41</td>\n",
       "      <td>00:53:27</td>\n",
       "      <td>01:20:04</td>\n",
       "      <td>01:46:45</td>\n",
       "      <td>01:52:33</td>\n",
       "      <td>02:13:20</td>\n",
       "      <td>02:40:30</td>\n",
       "      <td>03:09:05</td>\n",
       "      <td>03:38:07</td>\n",
       "      <td>03:51:53</td>\n",
       "      <td>00:08:51</td>\n",
       "      <td>16868</td>\n",
       "      <td>10503</td>\n",
       "      <td>330</td>\n",
       "    </tr>\n",
       "    <tr>\n",
       "      <th>25111</th>\n",
       "      <td>56</td>\n",
       "      <td>F</td>\n",
       "      <td>CAN</td>\n",
       "      <td>00:27:07</td>\n",
       "      <td>00:54:29</td>\n",
       "      <td>01:22:35</td>\n",
       "      <td>01:51:02</td>\n",
       "      <td>01:59:45</td>\n",
       "      <td>02:31:38</td>\n",
       "      <td>03:15:17</td>\n",
       "      <td>04:04:31</td>\n",
       "      <td>04:52:18</td>\n",
       "      <td>05:11:34</td>\n",
       "      <td>00:11:54</td>\n",
       "      <td>25366</td>\n",
       "      <td>11324</td>\n",
       "      <td>564</td>\n",
       "    </tr>\n",
       "    <tr>\n",
       "      <th>9791</th>\n",
       "      <td>45</td>\n",
       "      <td>M</td>\n",
       "      <td>MEX</td>\n",
       "      <td>00:24:21</td>\n",
       "      <td>00:48:16</td>\n",
       "      <td>01:12:31</td>\n",
       "      <td>01:37:04</td>\n",
       "      <td>01:42:25</td>\n",
       "      <td>02:01:23</td>\n",
       "      <td>02:26:24</td>\n",
       "      <td>02:52:08</td>\n",
       "      <td>03:17:56</td>\n",
       "      <td>03:29:04</td>\n",
       "      <td>00:07:59</td>\n",
       "      <td>9820</td>\n",
       "      <td>7570</td>\n",
       "      <td>1436</td>\n",
       "    </tr>\n",
       "  </tbody>\n",
       "</table>\n",
       "</div>"
      ],
      "text/plain": [
       "       Age M/F Country        5K       10K       15K       20K      Half  \\\n",
       "20743   21   M     USA  00:29:39  00:56:32  01:23:45  01:50:10  01:56:01   \n",
       "11424   52   M     USA  00:24:38  00:49:24  01:14:37  01:40:12  01:45:46   \n",
       "16756   63   M     USA  00:26:41  00:53:27  01:20:04  01:46:45  01:52:33   \n",
       "25111   56   F     CAN  00:27:07  00:54:29  01:22:35  01:51:02  01:59:45   \n",
       "9791    45   M     MEX  00:24:21  00:48:16  01:12:31  01:37:04  01:42:25   \n",
       "\n",
       "            25K       30K       35K       40K    Finish      Pace  Overall  \\\n",
       "20743  02:17:20  02:47:05  03:22:28  03:57:32  04:12:36  00:09:39    20908   \n",
       "11424  02:05:38  02:31:33  02:57:33  03:22:51  03:34:03  00:08:10    11468   \n",
       "16756  02:13:20  02:40:30  03:09:05  03:38:07  03:51:53  00:08:51    16868   \n",
       "25111  02:31:38  03:15:17  04:04:31  04:52:18  05:11:34  00:11:54    25366   \n",
       "9791   02:01:23  02:26:24  02:52:08  03:17:56  03:29:04  00:07:59     9820   \n",
       "\n",
       "       Gender  Division  \n",
       "20743   12089      4279  \n",
       "11424    8327      1065  \n",
       "16756   10503       330  \n",
       "25111   11324       564  \n",
       "9791     7570      1436  "
      ]
     },
     "execution_count": 2,
     "metadata": {},
     "output_type": "execute_result"
    }
   ],
   "source": [
    "# Read Marathon data \n",
    "df = pd.read_csv(\"marathon_results.csv\")\n",
    "df.sample(5)"
   ]
  },
  {
   "cell_type": "markdown",
   "id": "435e730b",
   "metadata": {},
   "source": [
    "## Data Transformation"
   ]
  },
  {
   "cell_type": "markdown",
   "id": "f21a1437",
   "metadata": {},
   "source": [
    "Since the times in marathon data are expressed in `hour:minute:second`, we will add additional column that shows converted into only minutes for analysis. "
   ]
  },
  {
   "cell_type": "code",
   "execution_count": 3,
   "id": "815c821c",
   "metadata": {
    "scrolled": false
   },
   "outputs": [
    {
     "data": {
      "text/html": [
       "<div>\n",
       "<style scoped>\n",
       "    .dataframe tbody tr th:only-of-type {\n",
       "        vertical-align: middle;\n",
       "    }\n",
       "\n",
       "    .dataframe tbody tr th {\n",
       "        vertical-align: top;\n",
       "    }\n",
       "\n",
       "    .dataframe thead th {\n",
       "        text-align: right;\n",
       "    }\n",
       "</style>\n",
       "<table border=\"1\" class=\"dataframe\">\n",
       "  <thead>\n",
       "    <tr style=\"text-align: right;\">\n",
       "      <th></th>\n",
       "      <th>Age</th>\n",
       "      <th>M/F</th>\n",
       "      <th>Country</th>\n",
       "      <th>5K</th>\n",
       "      <th>10K</th>\n",
       "      <th>15K</th>\n",
       "      <th>20K</th>\n",
       "      <th>Half</th>\n",
       "      <th>25K</th>\n",
       "      <th>30K</th>\n",
       "      <th>35K</th>\n",
       "      <th>40K</th>\n",
       "      <th>Finish</th>\n",
       "      <th>Pace</th>\n",
       "      <th>Overall</th>\n",
       "      <th>Gender</th>\n",
       "      <th>Division</th>\n",
       "      <th>total_minutes</th>\n",
       "    </tr>\n",
       "  </thead>\n",
       "  <tbody>\n",
       "    <tr>\n",
       "      <th>0</th>\n",
       "      <td>25</td>\n",
       "      <td>M</td>\n",
       "      <td>ETH</td>\n",
       "      <td>00:14:43</td>\n",
       "      <td>00:29:43</td>\n",
       "      <td>00:44:57</td>\n",
       "      <td>01:00:29</td>\n",
       "      <td>01:04:02</td>\n",
       "      <td>01:16:07</td>\n",
       "      <td>01:32:00</td>\n",
       "      <td>01:47:59</td>\n",
       "      <td>02:02:39</td>\n",
       "      <td>02:09:17</td>\n",
       "      <td>00:04:56</td>\n",
       "      <td>1</td>\n",
       "      <td>1</td>\n",
       "      <td>1</td>\n",
       "      <td>129.283333</td>\n",
       "    </tr>\n",
       "    <tr>\n",
       "      <th>1</th>\n",
       "      <td>30</td>\n",
       "      <td>M</td>\n",
       "      <td>ETH</td>\n",
       "      <td>00:14:43</td>\n",
       "      <td>00:29:43</td>\n",
       "      <td>00:44:58</td>\n",
       "      <td>01:00:28</td>\n",
       "      <td>01:04:01</td>\n",
       "      <td>01:16:07</td>\n",
       "      <td>01:31:59</td>\n",
       "      <td>01:47:59</td>\n",
       "      <td>02:02:42</td>\n",
       "      <td>02:09:48</td>\n",
       "      <td>00:04:58</td>\n",
       "      <td>2</td>\n",
       "      <td>2</td>\n",
       "      <td>2</td>\n",
       "      <td>129.800000</td>\n",
       "    </tr>\n",
       "    <tr>\n",
       "      <th>2</th>\n",
       "      <td>29</td>\n",
       "      <td>M</td>\n",
       "      <td>KEN</td>\n",
       "      <td>00:14:43</td>\n",
       "      <td>00:29:43</td>\n",
       "      <td>00:44:57</td>\n",
       "      <td>01:00:29</td>\n",
       "      <td>01:04:02</td>\n",
       "      <td>01:16:07</td>\n",
       "      <td>01:32:00</td>\n",
       "      <td>01:47:59</td>\n",
       "      <td>02:03:01</td>\n",
       "      <td>02:10:22</td>\n",
       "      <td>00:04:59</td>\n",
       "      <td>3</td>\n",
       "      <td>3</td>\n",
       "      <td>3</td>\n",
       "      <td>130.366667</td>\n",
       "    </tr>\n",
       "    <tr>\n",
       "      <th>3</th>\n",
       "      <td>28</td>\n",
       "      <td>M</td>\n",
       "      <td>KEN</td>\n",
       "      <td>00:14:43</td>\n",
       "      <td>00:29:44</td>\n",
       "      <td>00:45:01</td>\n",
       "      <td>01:00:29</td>\n",
       "      <td>01:04:02</td>\n",
       "      <td>01:16:07</td>\n",
       "      <td>01:32:00</td>\n",
       "      <td>01:48:03</td>\n",
       "      <td>02:03:47</td>\n",
       "      <td>02:10:47</td>\n",
       "      <td>00:05:00</td>\n",
       "      <td>4</td>\n",
       "      <td>4</td>\n",
       "      <td>4</td>\n",
       "      <td>130.783333</td>\n",
       "    </tr>\n",
       "    <tr>\n",
       "      <th>4</th>\n",
       "      <td>32</td>\n",
       "      <td>M</td>\n",
       "      <td>KEN</td>\n",
       "      <td>00:14:43</td>\n",
       "      <td>00:29:44</td>\n",
       "      <td>00:44:58</td>\n",
       "      <td>01:00:28</td>\n",
       "      <td>01:04:01</td>\n",
       "      <td>01:16:07</td>\n",
       "      <td>01:32:00</td>\n",
       "      <td>01:47:59</td>\n",
       "      <td>02:03:27</td>\n",
       "      <td>02:10:49</td>\n",
       "      <td>00:05:00</td>\n",
       "      <td>5</td>\n",
       "      <td>5</td>\n",
       "      <td>5</td>\n",
       "      <td>130.816667</td>\n",
       "    </tr>\n",
       "  </tbody>\n",
       "</table>\n",
       "</div>"
      ],
      "text/plain": [
       "   Age M/F Country        5K       10K       15K       20K      Half  \\\n",
       "0   25   M     ETH  00:14:43  00:29:43  00:44:57  01:00:29  01:04:02   \n",
       "1   30   M     ETH  00:14:43  00:29:43  00:44:58  01:00:28  01:04:01   \n",
       "2   29   M     KEN  00:14:43  00:29:43  00:44:57  01:00:29  01:04:02   \n",
       "3   28   M     KEN  00:14:43  00:29:44  00:45:01  01:00:29  01:04:02   \n",
       "4   32   M     KEN  00:14:43  00:29:44  00:44:58  01:00:28  01:04:01   \n",
       "\n",
       "        25K       30K       35K       40K    Finish      Pace  Overall  \\\n",
       "0  01:16:07  01:32:00  01:47:59  02:02:39  02:09:17  00:04:56        1   \n",
       "1  01:16:07  01:31:59  01:47:59  02:02:42  02:09:48  00:04:58        2   \n",
       "2  01:16:07  01:32:00  01:47:59  02:03:01  02:10:22  00:04:59        3   \n",
       "3  01:16:07  01:32:00  01:48:03  02:03:47  02:10:47  00:05:00        4   \n",
       "4  01:16:07  01:32:00  01:47:59  02:03:27  02:10:49  00:05:00        5   \n",
       "\n",
       "   Gender  Division  total_minutes  \n",
       "0       1         1     129.283333  \n",
       "1       2         2     129.800000  \n",
       "2       3         3     130.366667  \n",
       "3       4         4     130.783333  \n",
       "4       5         5     130.816667  "
      ]
     },
     "execution_count": 3,
     "metadata": {},
     "output_type": "execute_result"
    }
   ],
   "source": [
    "# Convert time to minutes\n",
    "df['total_minutes'] = pd.to_timedelta(df['Finish']).dt.total_seconds()/60\n",
    "df.head()"
   ]
  },
  {
   "cell_type": "markdown",
   "id": "464e3367",
   "metadata": {},
   "source": [
    "Due to limited size of data, we will be using 90% of the dataset as training to strengthen the classifier and 10% as testing."
   ]
  },
  {
   "cell_type": "code",
   "execution_count": 4,
   "id": "85bc48aa",
   "metadata": {},
   "outputs": [],
   "source": [
    "# Split test data and train data as ratio of 1:9\n",
    "train_df,test_df = train_test_split(df,test_size=0.1,random_state=123)"
   ]
  },
  {
   "cell_type": "markdown",
   "id": "e34a526f",
   "metadata": {},
   "source": [
    "## Predict the sex of runner with 1- dimensional kernel density estimation in finish time."
   ]
  },
  {
   "cell_type": "markdown",
   "id": "5dbced73",
   "metadata": {},
   "source": [
    "From `train_df`, we train the classifier by applying kernel density estimation along Bayes theorem. Our goal is to predict the sex of runner based on runner's finish time that is converted into minutes. To apply Bayes probability, we calculate the P(x) which is the KDE of finish times, P(y) which is the probability in each sex, and P(x|y) which is the probability of KDE in finish times for each sex. Hence, we can predict the sex of runner by finish times from test data with the Naive based probability calculation. \n",
    "\n",
    "The function `marathon_probs` will determine the probability in each sex and return which sex is more likely to have higher chance by its finish time.\n",
    "\n",
    "In this section, we will predict the sex with one variable which refer to 1 -dimensional KDE.\n"
   ]
  },
  {
   "cell_type": "code",
   "execution_count": 5,
   "id": "3aedffc9",
   "metadata": {},
   "outputs": [],
   "source": [
    "# Function that predict the sex by Naive Bayes theorem\n",
    "def marathon_probs(test_df):\n",
    "\n",
    "    prod = np.ones(2) # There are two states either Male or Female\n",
    "    \n",
    "    prod[0]+=np.log10(py_m * kde_m(test_df)/total) # log(P(y=male)* P(x|y=male)/ P(x))\n",
    "    prod[1]+=np.log10(py_f * kde_f(test_df)/total) # log(P(y=female)* P(x|y=female)/ P(x))\n",
    "\n",
    "    return ['M','F'][np.argmax(prod)] # return the tendency of the sex with highest probability."
   ]
  },
  {
   "cell_type": "code",
   "execution_count": 6,
   "id": "ff974163",
   "metadata": {},
   "outputs": [],
   "source": [
    "# Convert the finish time of test data into minutes\n",
    "test_df['total_minutes'] = pd.to_timedelta(test_df['Finish']).dt.total_seconds()/60 # create column of converted time \n",
    "test_min = test_df[\"total_minutes\"]\n",
    "\n",
    "\n",
    "dfm =train_df[train_df['M/F']=='M'] # data frame with Male\n",
    "dff =train_df[train_df['M/F']=='F'] # data frame with Female\n",
    "\n",
    "kde_m = gaussian_kde(dfm['total_minutes'],bw_method = 0.01) # P(x|y) y = male\n",
    "kde_f = gaussian_kde(dff['total_minutes'],bw_method = 0.01) # P(x|y) y = female\n",
    "kde = gaussian_kde(train_df['total_minutes'], bw_method = 0.01) # KDE by finish time\n",
    "\n",
    "py_m = train_df[train_df['M/F']=='M']['M/F'].count() / train_df['M/F'].count() # P(y=male)\n",
    "py_f = train_df[train_df['M/F']=='F']['M/F'].count() / train_df['M/F'].count() # P(y=female)\n",
    "total = kde(train_df['total_minutes']).sum() # P(x) probability\n",
    "\n",
    "prediction=[]\n",
    "actual=[]\n",
    "for i in range(len(test_df)):\n",
    "    prediction.append(marathon_probs(test_min.iloc[i])) # prediction sex\n",
    "    actual.append(test_df['M/F'].iloc[i]) # actual sex"
   ]
  },
  {
   "cell_type": "code",
   "execution_count": 7,
   "id": "9047b871",
   "metadata": {},
   "outputs": [
    {
     "data": {
      "image/png": "[encoded data removed]",
      "text/plain": [
       "<Figure size 720x576 with 2 Axes>"
      ]
     },
     "metadata": {
      "needs_background": "light"
     },
     "output_type": "display_data"
    }
   ],
   "source": [
    "y_true= actual # Array of real labels\n",
    "y_pred= prediction # Array of predicted labels\n",
    "c =confusion_matrix(y_true, y_pred) # Confusion matrix\n",
    "plt.figure(figsize=(10, 8))\n",
    "\n",
    "sns.heatmap(c, \n",
    "            annot=True,\n",
    "            annot_kws = {\"fontsize\": 16},\n",
    "            cbar=True,\n",
    "            linewidth=2,\n",
    "            square=True,\n",
    "            cmap=\"Blues_r\"\n",
    "            \n",
    ")\n",
    "plt.title(\"Sex prediction accuracy based on finish time (1-D KDE)\")\n",
    "plt.xlabel(\"Prediction\")\n",
    "plt.ylabel(\"Actual\")\n",
    "plt.show()"
   ]
  },
  {
   "cell_type": "code",
   "execution_count": 8,
   "id": "6f4337f8",
   "metadata": {},
   "outputs": [
    {
     "name": "stdout",
     "output_type": "stream",
     "text": [
      "The accuracy of prediction in sex based on finish time (1-D KDE) was 65.43726235741445%\n"
     ]
    }
   ],
   "source": [
    "accuracy = (c[0,0]+c[1,1]) / len(prediction)* 100\n",
    "print(\"The accuracy of prediction in sex based on finish time (1-D KDE) was \"+ str(accuracy)+\"%\")"
   ]
  },
  {
   "cell_type": "markdown",
   "id": "f6ce3230",
   "metadata": {},
   "source": [
    "## Predict the sex of runner with 2- dimensional kernel density estimation in finish time and age."
   ]
  },
  {
   "cell_type": "markdown",
   "id": "2e9ea44f",
   "metadata": {},
   "source": [
    "In this section, we will predict the sex of runner not only with finish time but also age. While two variables are used, we call the estimation as 2-dimensional KDE. Since `gaussian_kde` can not be used in 2-dimensional array, we transpose to group each time and age in a same array."
   ]
  },
  {
   "cell_type": "code",
   "execution_count": 9,
   "id": "2ccc2fc7",
   "metadata": {},
   "outputs": [
    {
     "name": "stderr",
     "output_type": "stream",
     "text": [
      "/var/folders/1p/5r47nk_x38z6f_8ks2qp3vdm0000gn/T/ipykernel_3343/2838910498.py:7: RuntimeWarning: divide by zero encountered in log10\n",
      "  prod[1]+=np.log10(py_f * kde_f(test_df)/total) # log(P(y=female)* P(x|y=female)/ P(x))\n"
     ]
    }
   ],
   "source": [
    "# Convert the finish time of test data into minutes\n",
    "test_df['total_minutes'] = pd.to_timedelta(test_df['Finish']).dt.total_seconds()/60 # create column of converted time \n",
    "test_min = test_df[['total_minutes','Age']]\n",
    "\n",
    "dfm =train_df[train_df['M/F']=='M'] # data frame with Male\n",
    "dff =train_df[train_df['M/F']=='F'] # data frame with Female\n",
    "\n",
    "kde_m = gaussian_kde(dfm[['total_minutes','Age']].T,bw_method = 0.01) # P(x|y) y = male\n",
    "kde_f = gaussian_kde(dff[['total_minutes','Age']].T,bw_method = 0.01) # P(x|y) y = female\n",
    "kde = gaussian_kde(train_df[['total_minutes','Age']].T,bw_method = 0.01) # KDE by finish time\n",
    "\n",
    "py_m = train_df[train_df['M/F']=='M']['M/F'].count() / train_df['M/F'].count() # P(y=male)\n",
    "py_f = train_df[train_df['M/F']=='F']['M/F'].count() / train_df['M/F'].count() # P(y=female)\n",
    "total = kde(train_df[['total_minutes','Age']].T).sum() # P(x) probability\n",
    "\n",
    "prediction=[]\n",
    "actual=[]\n",
    "for i in range(len(test_df)):\n",
    "    prediction.append(marathon_probs(test_min.iloc[i])) # prediction\n",
    "    actual.append(test_df['M/F'].iloc[i]) # actual"
   ]
  },
  {
   "cell_type": "code",
   "execution_count": 10,
   "id": "c330434e",
   "metadata": {
    "scrolled": true
   },
   "outputs": [
    {
     "data": {
      "image/png": "[encoded data removed]",
      "text/plain": [
       "<Figure size 720x576 with 2 Axes>"
      ]
     },
     "metadata": {
      "needs_background": "light"
     },
     "output_type": "display_data"
    }
   ],
   "source": [
    "y_true= actual # Array of real labels\n",
    "y_pred= prediction # Array of predicted labels\n",
    "c =confusion_matrix(y_true, y_pred) # Confusion matrix\n",
    "plt.figure(figsize=(10, 8))\n",
    "\n",
    "sns.heatmap(c, \n",
    "            annot=True,\n",
    "            annot_kws = {\"fontsize\": 16},\n",
    "            cbar=True,\n",
    "            linewidth=2,\n",
    "            square=True,\n",
    "            cmap=\"Blues_r\"\n",
    "            \n",
    ")\n",
    "plt.title(\"Sex prediction accuracy based on finish time & Age (2-D KDE)\")\n",
    "plt.xlabel(\"Prediction\")\n",
    "plt.ylabel(\"Actual\")\n",
    "plt.show()"
   ]
  },
  {
   "cell_type": "code",
   "execution_count": 11,
   "id": "e4b1a9ad",
   "metadata": {},
   "outputs": [
    {
     "name": "stdout",
     "output_type": "stream",
     "text": [
      "The accuracy of prediction in sex based on finish time & age (2-D KDE) was 72.28136882129277%\n"
     ]
    }
   ],
   "source": [
    "accuracy = (c[0,0]+c[1,1]) / len(prediction)* 100\n",
    "print(\"The accuracy of prediction in sex based on finish time & age (2-D KDE) was \"+ str(accuracy)+\"%\")"
   ]
  },
  {
   "cell_type": "markdown",
   "id": "e63271f3",
   "metadata": {},
   "source": [
    "### Compare two predictions"
   ]
  },
  {
   "cell_type": "markdown",
   "id": "50be6a07",
   "metadata": {},
   "source": [
    "According to both 1- dimensional and 2- dimensional results, prediction accuracy in 2 - dimensional KDE returned 72.3% which was 7% higher than 1 -dimensional result."
   ]
  },
  {
   "cell_type": "markdown",
   "id": "c3418619",
   "metadata": {},
   "source": [
    "## Predict the sex of runner with K-NN classifier then compare each with the KDE results."
   ]
  },
  {
   "cell_type": "markdown",
   "id": "70c53763",
   "metadata": {},
   "source": [
    "In this section, we will practice two different conditions as previous section which prediction with one variables and two variables.\n",
    "\n",
    "Using K-NN classifying method instead of KDE, our goal is to compare each result from KDE to determine which method returns higher probability in prediction.\n",
    "\n",
    "Since we compare with KDE results, K-NN will also use same variable, finish time & age."
   ]
  },
  {
   "cell_type": "markdown",
   "id": "ba473e61",
   "metadata": {},
   "source": [
    "### K-NN classifier comparing with 1-dimensional KDE results"
   ]
  },
  {
   "cell_type": "code",
   "execution_count": 12,
   "id": "c8462848",
   "metadata": {},
   "outputs": [
    {
     "data": {
      "text/plain": [
       "KNeighborsClassifier(n_neighbors=50)"
      ]
     },
     "execution_count": 12,
     "metadata": {},
     "output_type": "execute_result"
    }
   ],
   "source": [
    "k=50 # Neighbor setting as 50\n",
    "neigh = KNeighborsClassifier(n_neighbors=k)\n",
    "neigh.fit(train_df[['total_minutes']], train_df['M/F']) # Neighbor fit to neighbor finish times for determining sex"
   ]
  },
  {
   "cell_type": "code",
   "execution_count": 13,
   "id": "fbf09f6f",
   "metadata": {},
   "outputs": [
    {
     "data": {
      "text/plain": [
       "array(['F', 'M', 'M', ..., 'F', 'F', 'F'], dtype=object)"
      ]
     },
     "execution_count": 13,
     "metadata": {},
     "output_type": "execute_result"
    }
   ],
   "source": [
    "knn_pred = neigh.predict(test_df[['total_minutes']]) # Prediction based on finish time\n",
    "knn_pred"
   ]
  },
  {
   "cell_type": "code",
   "execution_count": 14,
   "id": "7df75321",
   "metadata": {
    "scrolled": true
   },
   "outputs": [
    {
     "data": {
      "image/png": "[encoded data removed]",
      "text/plain": [
       "<Figure size 720x576 with 2 Axes>"
      ]
     },
     "metadata": {
      "needs_background": "light"
     },
     "output_type": "display_data"
    }
   ],
   "source": [
    "y_true= actual # Array of real labels\n",
    "y_pred= knn_pred # Array of predicted labels\n",
    "c =confusion_matrix(y_true, y_pred) # Confusion matrix\n",
    "plt.figure(figsize=(10, 8))\n",
    "\n",
    "sns.heatmap(c, \n",
    "            annot=True,\n",
    "            annot_kws = {\"fontsize\": 16},\n",
    "            cbar=True,\n",
    "            linewidth=2,\n",
    "            square=True,\n",
    "            cmap=\"Blues_r\"\n",
    "            \n",
    ")\n",
    "plt.title(\"Sex prediction accuracy based on finish time (K-NN)\")\n",
    "plt.xlabel(\"Prediction\")\n",
    "plt.ylabel(\"Actual\")\n",
    "plt.show()"
   ]
  },
  {
   "cell_type": "code",
   "execution_count": 15,
   "id": "b67262c3",
   "metadata": {},
   "outputs": [
    {
     "name": "stdout",
     "output_type": "stream",
     "text": [
      "The accuracy of prediction in sex based on finish time (K-NN) was 64.60076045627376%\n"
     ]
    }
   ],
   "source": [
    "accuracy = (c[0,0]+c[1,1]) / len(prediction)* 100\n",
    "print(\"The accuracy of prediction in sex based on finish time (K-NN) was \"+ str(accuracy)+\"%\")"
   ]
  },
  {
   "cell_type": "markdown",
   "id": "6153732f",
   "metadata": {},
   "source": [
    "### K-NN classifier comparing with 2-dimensional KDE results"
   ]
  },
  {
   "cell_type": "code",
   "execution_count": 16,
   "id": "4dac6271",
   "metadata": {},
   "outputs": [
    {
     "data": {
      "text/plain": [
       "KNeighborsClassifier(n_neighbors=50)"
      ]
     },
     "execution_count": 16,
     "metadata": {},
     "output_type": "execute_result"
    }
   ],
   "source": [
    "k=50 # Neighbor setting as 50\n",
    "neigh = KNeighborsClassifier(n_neighbors=k)\n",
    "\n",
    "# Neighbor fit to neighbor finish times & age for determining sex\n",
    "neigh.fit(train_df[['total_minutes','Age']], train_df['M/F']) "
   ]
  },
  {
   "cell_type": "code",
   "execution_count": 17,
   "id": "87f63a2a",
   "metadata": {},
   "outputs": [
    {
     "data": {
      "text/plain": [
       "array(['F', 'M', 'M', ..., 'F', 'F', 'M'], dtype=object)"
      ]
     },
     "execution_count": 17,
     "metadata": {},
     "output_type": "execute_result"
    }
   ],
   "source": [
    "knn_pred = neigh.predict(test_df[['total_minutes','Age']]) # Prediction based on finish time & age\n",
    "knn_pred"
   ]
  },
  {
   "cell_type": "code",
   "execution_count": 18,
   "id": "cf3d5e8a",
   "metadata": {},
   "outputs": [
    {
     "data": {
      "image/png": "[encoded data removed]",
      "text/plain": [
       "<Figure size 720x576 with 2 Axes>"
      ]
     },
     "metadata": {
      "needs_background": "light"
     },
     "output_type": "display_data"
    }
   ],
   "source": [
    "y_true= actual # Array of real labels\n",
    "y_pred= knn_pred # Array of predicted labels\n",
    "c =confusion_matrix(y_true, y_pred) # Confusion matrix\n",
    "plt.figure(figsize=(10, 8))\n",
    "\n",
    "sns.heatmap(c, \n",
    "            annot=True,\n",
    "            annot_kws = {\"fontsize\": 16},\n",
    "            cbar=True,\n",
    "            linewidth=2,\n",
    "            square=True,\n",
    "            cmap=\"Blues_r\"\n",
    "            \n",
    ")\n",
    "plt.title(\"Sex prediction accuracy based on finish time & age (K-NN)\")\n",
    "plt.xlabel(\"Prediction\")\n",
    "plt.ylabel(\"Actual\")\n",
    "plt.show()"
   ]
  },
  {
   "cell_type": "code",
   "execution_count": 19,
   "id": "dfdf2ba3",
   "metadata": {},
   "outputs": [
    {
     "name": "stdout",
     "output_type": "stream",
     "text": [
      "The accuracy of prediction in sex based on finish time &age (K-NN) was 75.5893536121673%\n"
     ]
    }
   ],
   "source": [
    "accuracy = (c[0,0]+c[1,1]) / len(prediction)* 100\n",
    "print(\"The accuracy of prediction in sex based on finish time &age (K-NN) was \"+ str(accuracy)+\"%\")"
   ]
  },
  {
   "cell_type": "markdown",
   "id": "6d9fa343",
   "metadata": {},
   "source": [
    "### Compare two predictions"
   ]
  },
  {
   "cell_type": "markdown",
   "id": "9c00ca90",
   "metadata": {},
   "source": [
    "According to K-NN prediction, prediction with single variable returned 64.6% and multi-variable returned 75.6%.\n",
    "As we compare with the KDE results, prediction in single variable was about 1% higher in KDE result. However, when two variables were taken, prediction in K-NN was about 3% higher than KDE results."
   ]
  },
  {
   "cell_type": "markdown",
   "id": "b5a00056",
   "metadata": {},
   "source": [
    "## Predict the finish time with linear regression in 5k time and more."
   ]
  },
  {
   "cell_type": "markdown",
   "id": "eeb20f28",
   "metadata": {},
   "source": [
    "In this section, we will explore the method of linear regression to predict the finish time based on variables.\n",
    " \n",
    "To study the performance of prediction by the number of explanatory variables, we test in two conditions where single variable vs multi-variables. We will predict based on 5K times in single variable condition and 5K times & age in multi-variable condition.\n",
    "\n",
    "To determine the accuracy of prediction, we can calculate the difference between actual finish time with regression predicted time. As we calculate the mean of summed difference in absolute value, we are able to identify that smaller mean value has less error in prediction. \n"
   ]
  },
  {
   "cell_type": "markdown",
   "id": "c1615941",
   "metadata": {},
   "source": [
    "### Predict finish time linear regression in 5k time"
   ]
  },
  {
   "cell_type": "code",
   "execution_count": 20,
   "id": "75de70cb",
   "metadata": {},
   "outputs": [
    {
     "data": {
      "text/html": [
       "<div>\n",
       "<style scoped>\n",
       "    .dataframe tbody tr th:only-of-type {\n",
       "        vertical-align: middle;\n",
       "    }\n",
       "\n",
       "    .dataframe tbody tr th {\n",
       "        vertical-align: top;\n",
       "    }\n",
       "\n",
       "    .dataframe thead th {\n",
       "        text-align: right;\n",
       "    }\n",
       "</style>\n",
       "<table border=\"1\" class=\"dataframe\">\n",
       "  <thead>\n",
       "    <tr style=\"text-align: right;\">\n",
       "      <th></th>\n",
       "      <th>Age</th>\n",
       "      <th>M/F</th>\n",
       "      <th>Country</th>\n",
       "      <th>5K</th>\n",
       "      <th>10K</th>\n",
       "      <th>15K</th>\n",
       "      <th>20K</th>\n",
       "      <th>Half</th>\n",
       "      <th>25K</th>\n",
       "      <th>30K</th>\n",
       "      <th>35K</th>\n",
       "      <th>40K</th>\n",
       "      <th>Finish</th>\n",
       "      <th>Pace</th>\n",
       "      <th>Overall</th>\n",
       "      <th>Gender</th>\n",
       "      <th>Division</th>\n",
       "      <th>total_minutes</th>\n",
       "      <th>5k_minutes</th>\n",
       "    </tr>\n",
       "  </thead>\n",
       "  <tbody>\n",
       "    <tr>\n",
       "      <th>0</th>\n",
       "      <td>25</td>\n",
       "      <td>M</td>\n",
       "      <td>ETH</td>\n",
       "      <td>00:14:43</td>\n",
       "      <td>00:29:43</td>\n",
       "      <td>00:44:57</td>\n",
       "      <td>01:00:29</td>\n",
       "      <td>01:04:02</td>\n",
       "      <td>01:16:07</td>\n",
       "      <td>01:32:00</td>\n",
       "      <td>01:47:59</td>\n",
       "      <td>02:02:39</td>\n",
       "      <td>02:09:17</td>\n",
       "      <td>00:04:56</td>\n",
       "      <td>1</td>\n",
       "      <td>1</td>\n",
       "      <td>1</td>\n",
       "      <td>129.283333</td>\n",
       "      <td>14.716667</td>\n",
       "    </tr>\n",
       "    <tr>\n",
       "      <th>1</th>\n",
       "      <td>30</td>\n",
       "      <td>M</td>\n",
       "      <td>ETH</td>\n",
       "      <td>00:14:43</td>\n",
       "      <td>00:29:43</td>\n",
       "      <td>00:44:58</td>\n",
       "      <td>01:00:28</td>\n",
       "      <td>01:04:01</td>\n",
       "      <td>01:16:07</td>\n",
       "      <td>01:31:59</td>\n",
       "      <td>01:47:59</td>\n",
       "      <td>02:02:42</td>\n",
       "      <td>02:09:48</td>\n",
       "      <td>00:04:58</td>\n",
       "      <td>2</td>\n",
       "      <td>2</td>\n",
       "      <td>2</td>\n",
       "      <td>129.800000</td>\n",
       "      <td>14.716667</td>\n",
       "    </tr>\n",
       "    <tr>\n",
       "      <th>2</th>\n",
       "      <td>29</td>\n",
       "      <td>M</td>\n",
       "      <td>KEN</td>\n",
       "      <td>00:14:43</td>\n",
       "      <td>00:29:43</td>\n",
       "      <td>00:44:57</td>\n",
       "      <td>01:00:29</td>\n",
       "      <td>01:04:02</td>\n",
       "      <td>01:16:07</td>\n",
       "      <td>01:32:00</td>\n",
       "      <td>01:47:59</td>\n",
       "      <td>02:03:01</td>\n",
       "      <td>02:10:22</td>\n",
       "      <td>00:04:59</td>\n",
       "      <td>3</td>\n",
       "      <td>3</td>\n",
       "      <td>3</td>\n",
       "      <td>130.366667</td>\n",
       "      <td>14.716667</td>\n",
       "    </tr>\n",
       "    <tr>\n",
       "      <th>3</th>\n",
       "      <td>28</td>\n",
       "      <td>M</td>\n",
       "      <td>KEN</td>\n",
       "      <td>00:14:43</td>\n",
       "      <td>00:29:44</td>\n",
       "      <td>00:45:01</td>\n",
       "      <td>01:00:29</td>\n",
       "      <td>01:04:02</td>\n",
       "      <td>01:16:07</td>\n",
       "      <td>01:32:00</td>\n",
       "      <td>01:48:03</td>\n",
       "      <td>02:03:47</td>\n",
       "      <td>02:10:47</td>\n",
       "      <td>00:05:00</td>\n",
       "      <td>4</td>\n",
       "      <td>4</td>\n",
       "      <td>4</td>\n",
       "      <td>130.783333</td>\n",
       "      <td>14.716667</td>\n",
       "    </tr>\n",
       "    <tr>\n",
       "      <th>4</th>\n",
       "      <td>32</td>\n",
       "      <td>M</td>\n",
       "      <td>KEN</td>\n",
       "      <td>00:14:43</td>\n",
       "      <td>00:29:44</td>\n",
       "      <td>00:44:58</td>\n",
       "      <td>01:00:28</td>\n",
       "      <td>01:04:01</td>\n",
       "      <td>01:16:07</td>\n",
       "      <td>01:32:00</td>\n",
       "      <td>01:47:59</td>\n",
       "      <td>02:03:27</td>\n",
       "      <td>02:10:49</td>\n",
       "      <td>00:05:00</td>\n",
       "      <td>5</td>\n",
       "      <td>5</td>\n",
       "      <td>5</td>\n",
       "      <td>130.816667</td>\n",
       "      <td>14.716667</td>\n",
       "    </tr>\n",
       "  </tbody>\n",
       "</table>\n",
       "</div>"
      ],
      "text/plain": [
       "   Age M/F Country        5K       10K       15K       20K      Half  \\\n",
       "0   25   M     ETH  00:14:43  00:29:43  00:44:57  01:00:29  01:04:02   \n",
       "1   30   M     ETH  00:14:43  00:29:43  00:44:58  01:00:28  01:04:01   \n",
       "2   29   M     KEN  00:14:43  00:29:43  00:44:57  01:00:29  01:04:02   \n",
       "3   28   M     KEN  00:14:43  00:29:44  00:45:01  01:00:29  01:04:02   \n",
       "4   32   M     KEN  00:14:43  00:29:44  00:44:58  01:00:28  01:04:01   \n",
       "\n",
       "        25K       30K       35K       40K    Finish      Pace  Overall  \\\n",
       "0  01:16:07  01:32:00  01:47:59  02:02:39  02:09:17  00:04:56        1   \n",
       "1  01:16:07  01:31:59  01:47:59  02:02:42  02:09:48  00:04:58        2   \n",
       "2  01:16:07  01:32:00  01:47:59  02:03:01  02:10:22  00:04:59        3   \n",
       "3  01:16:07  01:32:00  01:48:03  02:03:47  02:10:47  00:05:00        4   \n",
       "4  01:16:07  01:32:00  01:47:59  02:03:27  02:10:49  00:05:00        5   \n",
       "\n",
       "   Gender  Division  total_minutes  5k_minutes  \n",
       "0       1         1     129.283333   14.716667  \n",
       "1       2         2     129.800000   14.716667  \n",
       "2       3         3     130.366667   14.716667  \n",
       "3       4         4     130.783333   14.716667  \n",
       "4       5         5     130.816667   14.716667  "
      ]
     },
     "execution_count": 20,
     "metadata": {},
     "output_type": "execute_result"
    }
   ],
   "source": [
    "df['5k_minutes'] = pd.to_timedelta(df['5K']).dt.total_seconds()/60 # convert 5K times into minutes \n",
    "df.head()"
   ]
  },
  {
   "cell_type": "code",
   "execution_count": 21,
   "id": "09f08e75",
   "metadata": {},
   "outputs": [
    {
     "data": {
      "text/plain": [
       "LinearRegression()"
      ]
     },
     "execution_count": 21,
     "metadata": {},
     "output_type": "execute_result"
    }
   ],
   "source": [
    "reg = LinearRegression() # Create linear regression\n",
    "reg.fit(df[['5k_minutes']],df['total_minutes']) # fit linear regression based on 5K times to predict finish time"
   ]
  },
  {
   "cell_type": "code",
   "execution_count": 22,
   "id": "ed376154",
   "metadata": {
    "scrolled": false
   },
   "outputs": [
    {
     "data": {
      "text/html": [
       "<div>\n",
       "<style scoped>\n",
       "    .dataframe tbody tr th:only-of-type {\n",
       "        vertical-align: middle;\n",
       "    }\n",
       "\n",
       "    .dataframe tbody tr th {\n",
       "        vertical-align: top;\n",
       "    }\n",
       "\n",
       "    .dataframe thead th {\n",
       "        text-align: right;\n",
       "    }\n",
       "</style>\n",
       "<table border=\"1\" class=\"dataframe\">\n",
       "  <thead>\n",
       "    <tr style=\"text-align: right;\">\n",
       "      <th></th>\n",
       "      <th>Age</th>\n",
       "      <th>M/F</th>\n",
       "      <th>Country</th>\n",
       "      <th>5K</th>\n",
       "      <th>10K</th>\n",
       "      <th>15K</th>\n",
       "      <th>20K</th>\n",
       "      <th>Half</th>\n",
       "      <th>25K</th>\n",
       "      <th>30K</th>\n",
       "      <th>...</th>\n",
       "      <th>40K</th>\n",
       "      <th>Finish</th>\n",
       "      <th>Pace</th>\n",
       "      <th>Overall</th>\n",
       "      <th>Gender</th>\n",
       "      <th>Division</th>\n",
       "      <th>total_minutes</th>\n",
       "      <th>5k_minutes</th>\n",
       "      <th>regression</th>\n",
       "      <th>regression_error</th>\n",
       "    </tr>\n",
       "  </thead>\n",
       "  <tbody>\n",
       "    <tr>\n",
       "      <th>0</th>\n",
       "      <td>25</td>\n",
       "      <td>M</td>\n",
       "      <td>ETH</td>\n",
       "      <td>00:14:43</td>\n",
       "      <td>00:29:43</td>\n",
       "      <td>00:44:57</td>\n",
       "      <td>01:00:29</td>\n",
       "      <td>01:04:02</td>\n",
       "      <td>01:16:07</td>\n",
       "      <td>01:32:00</td>\n",
       "      <td>...</td>\n",
       "      <td>02:02:39</td>\n",
       "      <td>02:09:17</td>\n",
       "      <td>00:04:56</td>\n",
       "      <td>1</td>\n",
       "      <td>1</td>\n",
       "      <td>1</td>\n",
       "      <td>129.283333</td>\n",
       "      <td>14.716667</td>\n",
       "      <td>127.007239</td>\n",
       "      <td>-2.276094</td>\n",
       "    </tr>\n",
       "    <tr>\n",
       "      <th>1</th>\n",
       "      <td>30</td>\n",
       "      <td>M</td>\n",
       "      <td>ETH</td>\n",
       "      <td>00:14:43</td>\n",
       "      <td>00:29:43</td>\n",
       "      <td>00:44:58</td>\n",
       "      <td>01:00:28</td>\n",
       "      <td>01:04:01</td>\n",
       "      <td>01:16:07</td>\n",
       "      <td>01:31:59</td>\n",
       "      <td>...</td>\n",
       "      <td>02:02:42</td>\n",
       "      <td>02:09:48</td>\n",
       "      <td>00:04:58</td>\n",
       "      <td>2</td>\n",
       "      <td>2</td>\n",
       "      <td>2</td>\n",
       "      <td>129.800000</td>\n",
       "      <td>14.716667</td>\n",
       "      <td>127.007239</td>\n",
       "      <td>-2.792761</td>\n",
       "    </tr>\n",
       "    <tr>\n",
       "      <th>2</th>\n",
       "      <td>29</td>\n",
       "      <td>M</td>\n",
       "      <td>KEN</td>\n",
       "      <td>00:14:43</td>\n",
       "      <td>00:29:43</td>\n",
       "      <td>00:44:57</td>\n",
       "      <td>01:00:29</td>\n",
       "      <td>01:04:02</td>\n",
       "      <td>01:16:07</td>\n",
       "      <td>01:32:00</td>\n",
       "      <td>...</td>\n",
       "      <td>02:03:01</td>\n",
       "      <td>02:10:22</td>\n",
       "      <td>00:04:59</td>\n",
       "      <td>3</td>\n",
       "      <td>3</td>\n",
       "      <td>3</td>\n",
       "      <td>130.366667</td>\n",
       "      <td>14.716667</td>\n",
       "      <td>127.007239</td>\n",
       "      <td>-3.359428</td>\n",
       "    </tr>\n",
       "    <tr>\n",
       "      <th>3</th>\n",
       "      <td>28</td>\n",
       "      <td>M</td>\n",
       "      <td>KEN</td>\n",
       "      <td>00:14:43</td>\n",
       "      <td>00:29:44</td>\n",
       "      <td>00:45:01</td>\n",
       "      <td>01:00:29</td>\n",
       "      <td>01:04:02</td>\n",
       "      <td>01:16:07</td>\n",
       "      <td>01:32:00</td>\n",
       "      <td>...</td>\n",
       "      <td>02:03:47</td>\n",
       "      <td>02:10:47</td>\n",
       "      <td>00:05:00</td>\n",
       "      <td>4</td>\n",
       "      <td>4</td>\n",
       "      <td>4</td>\n",
       "      <td>130.783333</td>\n",
       "      <td>14.716667</td>\n",
       "      <td>127.007239</td>\n",
       "      <td>-3.776094</td>\n",
       "    </tr>\n",
       "    <tr>\n",
       "      <th>4</th>\n",
       "      <td>32</td>\n",
       "      <td>M</td>\n",
       "      <td>KEN</td>\n",
       "      <td>00:14:43</td>\n",
       "      <td>00:29:44</td>\n",
       "      <td>00:44:58</td>\n",
       "      <td>01:00:28</td>\n",
       "      <td>01:04:01</td>\n",
       "      <td>01:16:07</td>\n",
       "      <td>01:32:00</td>\n",
       "      <td>...</td>\n",
       "      <td>02:03:27</td>\n",
       "      <td>02:10:49</td>\n",
       "      <td>00:05:00</td>\n",
       "      <td>5</td>\n",
       "      <td>5</td>\n",
       "      <td>5</td>\n",
       "      <td>130.816667</td>\n",
       "      <td>14.716667</td>\n",
       "      <td>127.007239</td>\n",
       "      <td>-3.809428</td>\n",
       "    </tr>\n",
       "  </tbody>\n",
       "</table>\n",
       "<p>5 rows × 21 columns</p>\n",
       "</div>"
      ],
      "text/plain": [
       "   Age M/F Country        5K       10K       15K       20K      Half  \\\n",
       "0   25   M     ETH  00:14:43  00:29:43  00:44:57  01:00:29  01:04:02   \n",
       "1   30   M     ETH  00:14:43  00:29:43  00:44:58  01:00:28  01:04:01   \n",
       "2   29   M     KEN  00:14:43  00:29:43  00:44:57  01:00:29  01:04:02   \n",
       "3   28   M     KEN  00:14:43  00:29:44  00:45:01  01:00:29  01:04:02   \n",
       "4   32   M     KEN  00:14:43  00:29:44  00:44:58  01:00:28  01:04:01   \n",
       "\n",
       "        25K       30K  ...       40K    Finish      Pace Overall  Gender  \\\n",
       "0  01:16:07  01:32:00  ...  02:02:39  02:09:17  00:04:56       1       1   \n",
       "1  01:16:07  01:31:59  ...  02:02:42  02:09:48  00:04:58       2       2   \n",
       "2  01:16:07  01:32:00  ...  02:03:01  02:10:22  00:04:59       3       3   \n",
       "3  01:16:07  01:32:00  ...  02:03:47  02:10:47  00:05:00       4       4   \n",
       "4  01:16:07  01:32:00  ...  02:03:27  02:10:49  00:05:00       5       5   \n",
       "\n",
       "   Division  total_minutes  5k_minutes  regression  regression_error  \n",
       "0         1     129.283333   14.716667  127.007239         -2.276094  \n",
       "1         2     129.800000   14.716667  127.007239         -2.792761  \n",
       "2         3     130.366667   14.716667  127.007239         -3.359428  \n",
       "3         4     130.783333   14.716667  127.007239         -3.776094  \n",
       "4         5     130.816667   14.716667  127.007239         -3.809428  \n",
       "\n",
       "[5 rows x 21 columns]"
      ]
     },
     "execution_count": 22,
     "metadata": {},
     "output_type": "execute_result"
    }
   ],
   "source": [
    "# add column that shows predicted finish time based on 5K times\n",
    "df['regression'] = reg.predict(df[['5k_minutes']]) \n",
    "\n",
    "# add column for the error between actual and prediction\n",
    "df['regression_error'] = df['regression'] - df['total_minutes'] \n",
    "\n",
    "df.head()"
   ]
  },
  {
   "cell_type": "markdown",
   "id": "5dd4e877",
   "metadata": {},
   "source": [
    "### Predict finish time with linear regression in 5K time and age"
   ]
  },
  {
   "cell_type": "code",
   "execution_count": 23,
   "id": "09af9ffa",
   "metadata": {},
   "outputs": [
    {
     "data": {
      "text/plain": [
       "LinearRegression()"
      ]
     },
     "execution_count": 23,
     "metadata": {},
     "output_type": "execute_result"
    }
   ],
   "source": [
    "reg2 = LinearRegression()  # Create linear regression\n",
    "\n",
    "# fit linear regression based on 5K times and age to predict finish time\n",
    "reg2.fit(df[['5k_minutes','Age']],df['total_minutes']) "
   ]
  },
  {
   "cell_type": "code",
   "execution_count": 24,
   "id": "99f8a9e5",
   "metadata": {
    "scrolled": true
   },
   "outputs": [
    {
     "data": {
      "text/html": [
       "<div>\n",
       "<style scoped>\n",
       "    .dataframe tbody tr th:only-of-type {\n",
       "        vertical-align: middle;\n",
       "    }\n",
       "\n",
       "    .dataframe tbody tr th {\n",
       "        vertical-align: top;\n",
       "    }\n",
       "\n",
       "    .dataframe thead th {\n",
       "        text-align: right;\n",
       "    }\n",
       "</style>\n",
       "<table border=\"1\" class=\"dataframe\">\n",
       "  <thead>\n",
       "    <tr style=\"text-align: right;\">\n",
       "      <th></th>\n",
       "      <th>Age</th>\n",
       "      <th>M/F</th>\n",
       "      <th>Country</th>\n",
       "      <th>5K</th>\n",
       "      <th>10K</th>\n",
       "      <th>15K</th>\n",
       "      <th>20K</th>\n",
       "      <th>Half</th>\n",
       "      <th>25K</th>\n",
       "      <th>30K</th>\n",
       "      <th>...</th>\n",
       "      <th>Pace</th>\n",
       "      <th>Overall</th>\n",
       "      <th>Gender</th>\n",
       "      <th>Division</th>\n",
       "      <th>total_minutes</th>\n",
       "      <th>5k_minutes</th>\n",
       "      <th>regression</th>\n",
       "      <th>regression_error</th>\n",
       "      <th>regression2</th>\n",
       "      <th>regression2_error</th>\n",
       "    </tr>\n",
       "  </thead>\n",
       "  <tbody>\n",
       "    <tr>\n",
       "      <th>0</th>\n",
       "      <td>25</td>\n",
       "      <td>M</td>\n",
       "      <td>ETH</td>\n",
       "      <td>00:14:43</td>\n",
       "      <td>00:29:43</td>\n",
       "      <td>00:44:57</td>\n",
       "      <td>01:00:29</td>\n",
       "      <td>01:04:02</td>\n",
       "      <td>01:16:07</td>\n",
       "      <td>01:32:00</td>\n",
       "      <td>...</td>\n",
       "      <td>00:04:56</td>\n",
       "      <td>1</td>\n",
       "      <td>1</td>\n",
       "      <td>1</td>\n",
       "      <td>129.283333</td>\n",
       "      <td>14.716667</td>\n",
       "      <td>127.007239</td>\n",
       "      <td>-2.276094</td>\n",
       "      <td>125.074019</td>\n",
       "      <td>-4.209315</td>\n",
       "    </tr>\n",
       "    <tr>\n",
       "      <th>1</th>\n",
       "      <td>30</td>\n",
       "      <td>M</td>\n",
       "      <td>ETH</td>\n",
       "      <td>00:14:43</td>\n",
       "      <td>00:29:43</td>\n",
       "      <td>00:44:58</td>\n",
       "      <td>01:00:28</td>\n",
       "      <td>01:04:01</td>\n",
       "      <td>01:16:07</td>\n",
       "      <td>01:31:59</td>\n",
       "      <td>...</td>\n",
       "      <td>00:04:58</td>\n",
       "      <td>2</td>\n",
       "      <td>2</td>\n",
       "      <td>2</td>\n",
       "      <td>129.800000</td>\n",
       "      <td>14.716667</td>\n",
       "      <td>127.007239</td>\n",
       "      <td>-2.792761</td>\n",
       "      <td>125.943387</td>\n",
       "      <td>-3.856613</td>\n",
       "    </tr>\n",
       "    <tr>\n",
       "      <th>2</th>\n",
       "      <td>29</td>\n",
       "      <td>M</td>\n",
       "      <td>KEN</td>\n",
       "      <td>00:14:43</td>\n",
       "      <td>00:29:43</td>\n",
       "      <td>00:44:57</td>\n",
       "      <td>01:00:29</td>\n",
       "      <td>01:04:02</td>\n",
       "      <td>01:16:07</td>\n",
       "      <td>01:32:00</td>\n",
       "      <td>...</td>\n",
       "      <td>00:04:59</td>\n",
       "      <td>3</td>\n",
       "      <td>3</td>\n",
       "      <td>3</td>\n",
       "      <td>130.366667</td>\n",
       "      <td>14.716667</td>\n",
       "      <td>127.007239</td>\n",
       "      <td>-3.359428</td>\n",
       "      <td>125.769513</td>\n",
       "      <td>-4.597153</td>\n",
       "    </tr>\n",
       "    <tr>\n",
       "      <th>3</th>\n",
       "      <td>28</td>\n",
       "      <td>M</td>\n",
       "      <td>KEN</td>\n",
       "      <td>00:14:43</td>\n",
       "      <td>00:29:44</td>\n",
       "      <td>00:45:01</td>\n",
       "      <td>01:00:29</td>\n",
       "      <td>01:04:02</td>\n",
       "      <td>01:16:07</td>\n",
       "      <td>01:32:00</td>\n",
       "      <td>...</td>\n",
       "      <td>00:05:00</td>\n",
       "      <td>4</td>\n",
       "      <td>4</td>\n",
       "      <td>4</td>\n",
       "      <td>130.783333</td>\n",
       "      <td>14.716667</td>\n",
       "      <td>127.007239</td>\n",
       "      <td>-3.776094</td>\n",
       "      <td>125.595640</td>\n",
       "      <td>-5.187694</td>\n",
       "    </tr>\n",
       "    <tr>\n",
       "      <th>4</th>\n",
       "      <td>32</td>\n",
       "      <td>M</td>\n",
       "      <td>KEN</td>\n",
       "      <td>00:14:43</td>\n",
       "      <td>00:29:44</td>\n",
       "      <td>00:44:58</td>\n",
       "      <td>01:00:28</td>\n",
       "      <td>01:04:01</td>\n",
       "      <td>01:16:07</td>\n",
       "      <td>01:32:00</td>\n",
       "      <td>...</td>\n",
       "      <td>00:05:00</td>\n",
       "      <td>5</td>\n",
       "      <td>5</td>\n",
       "      <td>5</td>\n",
       "      <td>130.816667</td>\n",
       "      <td>14.716667</td>\n",
       "      <td>127.007239</td>\n",
       "      <td>-3.809428</td>\n",
       "      <td>126.291135</td>\n",
       "      <td>-4.525532</td>\n",
       "    </tr>\n",
       "  </tbody>\n",
       "</table>\n",
       "<p>5 rows × 23 columns</p>\n",
       "</div>"
      ],
      "text/plain": [
       "   Age M/F Country        5K       10K       15K       20K      Half  \\\n",
       "0   25   M     ETH  00:14:43  00:29:43  00:44:57  01:00:29  01:04:02   \n",
       "1   30   M     ETH  00:14:43  00:29:43  00:44:58  01:00:28  01:04:01   \n",
       "2   29   M     KEN  00:14:43  00:29:43  00:44:57  01:00:29  01:04:02   \n",
       "3   28   M     KEN  00:14:43  00:29:44  00:45:01  01:00:29  01:04:02   \n",
       "4   32   M     KEN  00:14:43  00:29:44  00:44:58  01:00:28  01:04:01   \n",
       "\n",
       "        25K       30K  ...      Pace Overall Gender Division  total_minutes  \\\n",
       "0  01:16:07  01:32:00  ...  00:04:56       1      1        1     129.283333   \n",
       "1  01:16:07  01:31:59  ...  00:04:58       2      2        2     129.800000   \n",
       "2  01:16:07  01:32:00  ...  00:04:59       3      3        3     130.366667   \n",
       "3  01:16:07  01:32:00  ...  00:05:00       4      4        4     130.783333   \n",
       "4  01:16:07  01:32:00  ...  00:05:00       5      5        5     130.816667   \n",
       "\n",
       "   5k_minutes  regression  regression_error  regression2  regression2_error  \n",
       "0   14.716667  127.007239         -2.276094   125.074019          -4.209315  \n",
       "1   14.716667  127.007239         -2.792761   125.943387          -3.856613  \n",
       "2   14.716667  127.007239         -3.359428   125.769513          -4.597153  \n",
       "3   14.716667  127.007239         -3.776094   125.595640          -5.187694  \n",
       "4   14.716667  127.007239         -3.809428   126.291135          -4.525532  \n",
       "\n",
       "[5 rows x 23 columns]"
      ]
     },
     "execution_count": 24,
     "metadata": {},
     "output_type": "execute_result"
    }
   ],
   "source": [
    "# add column that shows predicted finish time based on 5K times and age\n",
    "df['regression2'] = reg2.predict(df[['5k_minutes','Age']])\n",
    "\n",
    "# add column for the error between actual and prediction\n",
    "df['regression2_error'] = df['regression2'] - df['total_minutes']\n",
    "\n",
    "df.head()"
   ]
  },
  {
   "cell_type": "markdown",
   "id": "c8ad798e",
   "metadata": {},
   "source": [
    "### Compare two predictions"
   ]
  },
  {
   "cell_type": "code",
   "execution_count": 25,
   "id": "0761f5eb",
   "metadata": {
    "scrolled": true
   },
   "outputs": [
    {
     "data": {
      "text/plain": [
       "10.973690327026311"
      ]
     },
     "execution_count": 25,
     "metadata": {},
     "output_type": "execute_result"
    }
   ],
   "source": [
    "# mean of total sum in 5k based error \n",
    "np.abs(df['regression_error']).mean()"
   ]
  },
  {
   "cell_type": "code",
   "execution_count": 26,
   "id": "501e22d7",
   "metadata": {},
   "outputs": [
    {
     "data": {
      "text/plain": [
       "10.908605377253089"
      ]
     },
     "execution_count": 26,
     "metadata": {},
     "output_type": "execute_result"
    }
   ],
   "source": [
    "# mean of total sum in 5k & age based error \n",
    "np.abs(df['regression2_error']).mean()"
   ]
  },
  {
   "cell_type": "markdown",
   "id": "8990b3b8",
   "metadata": {},
   "source": [
    "According to two predictions, linear regression based on two variables returned about 0.07 less error than single variable condition. "
   ]
  },
  {
   "cell_type": "markdown",
   "id": "b04a485d",
   "metadata": {},
   "source": [
    "## Conclusion"
   ]
  },
  {
   "cell_type": "markdown",
   "id": "0bec9cd6",
   "metadata": {},
   "source": [
    "Data analysis is a field that requires analyst to understand the data and determine the best method to retrieve the appropriate and ideal result. With marathon data, we have explored three method of machine techniques each when single variable and multi-variables were used in prediction. As to predict the sex of runner by finish time, KDE result was about 65.4% and K-NN was about 64.6%. prediction in KDE returned about 1% higher than K-NN when single variable was taken in. However, as predicting the sex of runner by finish time and age, KDE result was about 72.3% while K-NN was 75.6%. K-NN had higher accuracy when the two variables were taken in.\n",
    "\n",
    "In linear regression, we have predicted the finish times based on two conditions where taken 5K times as single variable and 5K time with age as multi-variable. Taking the mean of summed difference of absolute error, single variable returned 10.97 while multi-variable returned 10.91. While the smaller value represent the prediction has less error, prediction of linear regression in multi-variable was higher.\n",
    "\n",
    "Overall, we were able to discover that as more variables are considered, the prediction will likely to have higher accuracy. However, it does not mean method that returned highest prediction in single variable also return highest prediction in multi-variable. The efficiency of the method can be different by number of variables. \n",
    "\n",
    "For further study, we will explore more deep in efficiency of choosing method by multi-variable that more than two are taken in."
   ]
  },
  {
   "cell_type": "markdown",
   "id": "63f688f0",
   "metadata": {},
   "source": [
    "## Reference"
   ]
  },
  {
   "cell_type": "markdown",
   "id": "1489cfc8",
   "metadata": {},
   "source": [
    "1.Wikipedia contributors. (2023a). Kernel density estimation. Wikipedia. https://en.wikipedia.org/wiki/Kernel_density_estimation [1]\n",
    "\n",
    "\n",
    "2.scipy.stats.gaussian_kde — SciPy v1.10.1 Manual. (n.d.). https://docs.scipy.org/doc/scipy/reference/generated/scipy.stats.gaussian_kde.html [2]\n",
    "\n",
    "\n",
    "3.1.9. Naive Bayes. (n.d.). Scikit-learn. https://scikit-learn.org/stable/modules/naive_bayes.html#gaussian-naive-bayes [3]\n",
    "\n",
    "\n",
    "4.Wikipedia contributors. (2023). K-nearest neighbors algorithm. en.wikipedia.org. https://en.wikipedia.org/wiki/K-nearest_neighbors_algorithm [4]\n",
    "\n",
    "\n",
    "5.Wikipedia contributors. (2023b). Linear regression. Wikipedia. https://en.wikipedia.org/wiki/Linear_regression [5]\n",
    "\n"
   ]
  }
 ],
 "metadata": {
  "kernelspec": {
   "display_name": "Python 3 (ipykernel)",
   "language": "python",
   "name": "python3"
  },
  "language_info": {
   "codemirror_mode": {
    "name": "ipython",
    "version": 3
   },
   "file_extension": ".py",
   "mimetype": "text/x-python",
   "name": "python",
   "nbconvert_exporter": "python",
   "pygments_lexer": "ipython3",
   "version": "3.9.12"
  }
 },
 "nbformat": 4,
 "nbformat_minor": 5
}
