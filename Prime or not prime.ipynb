{
 "cells": [
  {
   "cell_type": "markdown",
   "id": "f829e0f2",
   "metadata": {},
   "source": [
    "# A prime or not a prime  "
   ]
  },
  {
   "cell_type": "markdown",
   "id": "10133ca6",
   "metadata": {},
   "source": [
    "## Introduction"
   ]
  },
  {
   "cell_type": "markdown",
   "id": "af9565b9",
   "metadata": {},
   "source": [
    "Prime number is defined as the natural number bigger than 1 that could be only divided by 1 and itself. "
   ]
  },
  {
   "cell_type": "markdown",
   "id": "9447bcc7",
   "metadata": {},
   "source": [
    "$$ Prime  number = 2, 3, 5, 7, 9, 11 ... $$"
   ]
  },
  {
   "cell_type": "markdown",
   "id": "fe201e81",
   "metadata": {},
   "source": [
    "In order to help determine large numbers, we use the method called _primary decomposition_. \n",
    "From this process, we are able to find out:"
   ]
  },
  {
   "cell_type": "markdown",
   "id": "47604e91",
   "metadata": {},
   "source": [
    "* Assuming the decomposed numbers are $$ n_1, n_2, n_3... $$\n",
    " where $ n>1 $,\n",
    "\n",
    "\n",
    "* 1. What prime numbers are multiplied to selected number.\n",
    "* 2. If the decomposed numbers exist more than 1 number(itself), then the number is not prime."
   ]
  },
  {
   "cell_type": "markdown",
   "id": "cb55eaff",
   "metadata": {},
   "source": [
    "For example, \n",
    "$$ 10 = 2 \\times 5 \\rightarrow  n = [2, 5]$$\n",
    "$$ 20 = 2 \\times 2 \\times 5 \\rightarrow n = [2, 2, 5] $$\n",
    "$$ 7 = 1 \\times 7 \\rightarrow n = [7] $$"
   ]
  },
  {
   "cell_type": "markdown",
   "id": "fb67b70b",
   "metadata": {},
   "source": [
    "Prime numbers are not only used to solve mathematical problems but also used in real word in cyber security field. In those field, there are more ways to define the prime number and one of the method is called _Congruences_. "
   ]
  },
  {
   "cell_type": "markdown",
   "id": "00993d2d",
   "metadata": {},
   "source": [
    "Congruence could be described as\n",
    "$$ m_1 \\equiv n_1(mod \\space k) $$\n",
    "meaning that $m_1$ and $n_1$ are equivalence when the remainder is same after divided by $k$\n",
    "\n",
    "For example, \n",
    "$$37 \\equiv 17(mod \\space 5)$$\n",
    "where $$ 37 \\div 5 = 7...2$$ $$17 \\div 5 = 3...2$$"
   ]
  },
  {
   "cell_type": "markdown",
   "id": "3d279414",
   "metadata": {},
   "source": [
    "To apply Congruences in order to determine prime, we can use this formula\n",
    "\n",
    "if $p$ is prime number and $p > a \\geq 0$, then \n",
    "$$ a^p \\equiv a(mod \\space p)$$\n",
    "\n",
    "For example, \n",
    "$$ 8 = 2^3 \\equiv 2(mod \\space 3)$$\n",
    "$$ 64 = 4^3 \\not\\equiv 3(mod \\space 4)$$"
   ]
  },
  {
   "cell_type": "markdown",
   "id": "eb6b50f6",
   "metadata": {},
   "source": [
    "However, there is a reason why congruence of primes is not a main definition of representing prime numbers.\n",
    "Because pass on congruence test does not always mean the number is prime. \n",
    "If $$ n \\not= prime$$ but\n",
    "$$ a^p \\equiv a(mod \\space p)$$\n",
    "\n",
    "We call them __false prime__."
   ]
  },
  {
   "cell_type": "markdown",
   "id": "7cf5eb18",
   "metadata": {},
   "source": [
    "Our goal is to determine \n",
    "* Find the first 20 false primes.\n",
    "* Primary decomposition of those 20 false primes.\n",
    "* Conjecture about properties of false primes.\n"
   ]
  },
  {
   "cell_type": "markdown",
   "id": "b8b884a2",
   "metadata": {},
   "source": [
    "## Find first 20 false prime numbers"
   ]
  },
  {
   "cell_type": "markdown",
   "id": "28c02e14",
   "metadata": {},
   "source": [
    "First, we need to find a function called `isprime(n)` that returns `True` if only can divided by 1 and itself."
   ]
  },
  {
   "cell_type": "code",
   "execution_count": 28,
   "id": "545a6f57",
   "metadata": {},
   "outputs": [],
   "source": [
    "def isprime(n):\n",
    "    '''This function check if n is prime or not. Returns True or False'''\n",
    "    prime=True #boolean used to check if n prime\n",
    "    \n",
    "    for d in range(2,int(n**0.5)+1): #loop on [2,(n**0.5)+1) to check for divisiors. \n",
    "        # Range is set to reduce the memory work.\n",
    "        \n",
    "        if n%d==0: #if remainder is zero, n is not prime\n",
    "            prime=False\n",
    "            break\n",
    "    \n",
    "    return prime"
   ]
  },
  {
   "cell_type": "markdown",
   "id": "5fb25c8e",
   "metadata": {},
   "source": [
    "`myprime(n)` and `primary(n)` are functions to find the _primary decomposition_. \n",
    "`myprime(n)` create a list of prime numbers below or equal to n."
   ]
  },
  {
   "cell_type": "code",
   "execution_count": 29,
   "id": "23258f30",
   "metadata": {},
   "outputs": [],
   "source": [
    "'''Return list of primes below or equal to n'''\n",
    "mylist = [] # Empty list that will receive the prime numbers that is smaller than n.\n",
    "\n",
    "def myprime(n):\n",
    "    for d in range(2,n+1): \n",
    "        if (isprime(d) == True): # Verify prime by using the `isprime` function created above.\n",
    "            mylist.append(d)\n",
    "\n",
    "    return mylist"
   ]
  },
  {
   "cell_type": "markdown",
   "id": "113c06af",
   "metadata": {},
   "source": [
    "`primary(n)` then use the number `n` with a list from `myprime(n)` to find out what n is composed with."
   ]
  },
  {
   "cell_type": "code",
   "execution_count": 6,
   "id": "5198b639",
   "metadata": {},
   "outputs": [],
   "source": [
    "\n",
    "def primary(n):\n",
    "    decomp=[] # decomp list\n",
    "    plist=myprime(n) # call list from myprime\n",
    "    \n",
    "    for i in plist: # loop on each number from myprime list\n",
    "        while n % i == 0: # starting from smallest number, check to see if n could be divided without remainder.\n",
    "            decomp.append(i)\n",
    "            n= n // i # once division successed, exchange n to divided number and repeat the process.\n",
    "        if n==1: # once n reach 1, end loop\n",
    "            break\n",
    "    return decomp\n",
    "    \n",
    "    "
   ]
  },
  {
   "cell_type": "markdown",
   "id": "bc66f300",
   "metadata": {},
   "source": [
    "Next, we create a function to test another method which is _Congruences_. \n",
    "\n",
    "`cong_test` function is to check\n",
    "$$ a^p \\equiv a(mod \\space p)$$\n",
    "more quick and easy way."
   ]
  },
  {
   "cell_type": "code",
   "execution_count": 5,
   "id": "acf98946",
   "metadata": {},
   "outputs": [],
   "source": [
    "def cong_test(a,p):\n",
    "    return pow(a,p,p) == a%p\n",
    "    # return (a**p)%p == a%p"
   ]
  },
  {
   "cell_type": "markdown",
   "id": "c65bb5a7",
   "metadata": {},
   "source": [
    "Then we plug in to a function `isprimelike(n)` to go through the loop to check if the number `n` pass the congruence test."
   ]
  },
  {
   "cell_type": "code",
   "execution_count": 7,
   "id": "e3b7d4d2",
   "metadata": {},
   "outputs": [],
   "source": [
    "# combine primary(n) with congruence_test(a,p) \n",
    "def isprimelike(n):\n",
    "    passed=True\n",
    "    for a in range(2,n): # Loop on 2 to n\n",
    "        if cong_test(a,n)!=True: # fail the test means n is not a prime.\n",
    "            passed=False\n",
    "            break\n",
    "    return passed\n",
    "    \n",
    "    "
   ]
  },
  {
   "cell_type": "markdown",
   "id": "c33f0221",
   "metadata": {},
   "source": [
    "Now we have both functions to test our method, we now create a `falseprime` function to check if `n` both pass the test. `n` is falseprime if only fail `isprime(n)` and pass on `isprimelike(n)`."
   ]
  },
  {
   "cell_type": "code",
   "execution_count": 8,
   "id": "91c4fd4f",
   "metadata": {},
   "outputs": [],
   "source": [
    "'''function will return `True` only if `n` is falseprime. '''\n",
    "def falseprime(n):\n",
    "    if (isprime(n)==True) and (isprimelike(n)==True): # If pass on both isprime and isprimelike means n is prime.\n",
    "        return False\n",
    "    elif (isprime(n)!=True) and (isprimelike(n)!=True): #fail on both isprime and isprimelike disqualify falseprime.\n",
    "        return False\n",
    "    else:\n",
    "        return True"
   ]
  },
  {
   "cell_type": "markdown",
   "id": "dd45579d",
   "metadata": {},
   "source": [
    "Since our goal was to find first 20 false prime numbers, we can create a loop until our `falselist` is filled with 20 false primes."
   ]
  },
  {
   "cell_type": "code",
   "execution_count": 20,
   "id": "034c065f",
   "metadata": {},
   "outputs": [
    {
     "name": "stdout",
     "output_type": "stream",
     "text": [
      "[561, 1105, 1729, 2465, 2821, 6601, 8911, 10585, 15841, 29341, 41041, 46657, 52633, 62745, 63973, 75361, 101101, 115921, 126217, 162401]\n"
     ]
    }
   ],
   "source": [
    "a=0 # counting number of list stored in falselist\n",
    "i=2 # increasing 1 each to check each number\n",
    "falselist=[]\n",
    "while a < 20:\n",
    "    if falseprime(i)==True: # if falseprime, \n",
    "        falselist.append(i) # add to falselist.\n",
    "        a+=1\n",
    "        i+=1\n",
    "    else:    \n",
    "        i+=1\n",
    "print(falselist)\n",
    "\n",
    "        \n",
    "        \n",
    "    "
   ]
  },
  {
   "cell_type": "code",
   "execution_count": 21,
   "id": "f5d1d589",
   "metadata": {},
   "outputs": [
    {
     "data": {
      "text/plain": [
       "20"
      ]
     },
     "execution_count": 21,
     "metadata": {},
     "output_type": "execute_result"
    }
   ],
   "source": [
    "len(falselist)"
   ]
  },
  {
   "cell_type": "markdown",
   "id": "c55dbfb3",
   "metadata": {},
   "source": [
    "## Primary decomposition of 20 false primes. "
   ]
  },
  {
   "cell_type": "markdown",
   "id": "5bba663d",
   "metadata": {},
   "source": [
    "Finally, we have the first 20 false primes stored in `falselist`.\n",
    "We can use the `primary(n)` function to find decomposition in each of those numbers."
   ]
  },
  {
   "cell_type": "code",
   "execution_count": 34,
   "id": "8eda9b4b",
   "metadata": {},
   "outputs": [
    {
     "name": "stdout",
     "output_type": "stream",
     "text": [
      "1. Primary decomposition of 561 is [3, 11, 17]\n",
      "2. Primary decomposition of 1105 is [5, 13, 17]\n",
      "3. Primary decomposition of 1729 is [7, 13, 19]\n",
      "4. Primary decomposition of 2465 is [5, 17, 29]\n",
      "5. Primary decomposition of 2821 is [7, 13, 31]\n",
      "6. Primary decomposition of 6601 is [7, 23, 41]\n",
      "7. Primary decomposition of 8911 is [7, 19, 67]\n",
      "8. Primary decomposition of 10585 is [5, 29, 73]\n",
      "9. Primary decomposition of 15841 is [7, 31, 73]\n",
      "10. Primary decomposition of 29341 is [13, 37, 61]\n",
      "11. Primary decomposition of 41041 is [7, 11, 13, 41]\n",
      "12. Primary decomposition of 46657 is [13, 37, 97]\n",
      "13. Primary decomposition of 52633 is [7, 73, 103]\n",
      "14. Primary decomposition of 62745 is [3, 5, 47, 89]\n",
      "15. Primary decomposition of 63973 is [7, 13, 19, 37]\n",
      "16. Primary decomposition of 75361 is [11, 13, 17, 31]\n",
      "17. Primary decomposition of 101101 is [7, 11, 13, 101]\n",
      "18. Primary decomposition of 115921 is [13, 37, 241]\n",
      "19. Primary decomposition of 126217 is [7, 13, 19, 73]\n",
      "20. Primary decomposition of 162401 is [17, 41, 233]\n"
     ]
    }
   ],
   "source": [
    "a = 1\n",
    "for i in falselist:\n",
    "    print(f'{a}. Primary decomposition of {i} is {primary(i)}') # print total of 20 list of decomposition numbers each representing false primes we found.\n",
    "    a +=1"
   ]
  },
  {
   "cell_type": "markdown",
   "id": "16cdbef4",
   "metadata": {},
   "source": [
    "## Conjecture about properties of false primes. "
   ]
  },
  {
   "cell_type": "markdown",
   "id": "d3bfba43",
   "metadata": {},
   "source": [
    "By focusing on the primary decomposition results, I was able to find three properties from first 20 false primes.\n",
    "\n",
    "* 1. False primes consists with 3 or 4 primary decomposition numbers.\n",
    "* 2. False primes do not have repeated primary decomposition numbers.\n",
    "* 3. Interval of false prime occurs are likely getting larger."
   ]
  },
  {
   "cell_type": "markdown",
   "id": "c240f69f",
   "metadata": {},
   "source": [
    "## Conclusion "
   ]
  },
  {
   "cell_type": "markdown",
   "id": "d9322945",
   "metadata": {},
   "source": [
    "We have used 2 methods to determine and compare to find false primes.\n",
    "\n",
    "First method was original definition of prime which is number `n` that is $ n>1 $, is prime if only could be divided by 1 and itself.\n",
    "\n",
    "Second method was side theorem of prime that is usually used in cyber security field. \n",
    "\n",
    "If $p$ is prime number and $p > a \\geq 0$, then \n",
    "$$ a^p \\equiv a(mod \\space p)$$\n",
    "\n",
    "However, second method do not always work perfectly. Due to this situation, we defined __false prime__ which\n",
    "\n",
    "If $$ n \\not= prime$$ but\n",
    "$$ a^p \\equiv a(mod \\space p)$$\n",
    "\n",
    "With the two method functions, we also used primary decomposition to see the components of the number for large values.\n",
    "\n",
    "From primary decomposed false primes, we were able to find out what they have in common.\n",
    "\n",
    "* 1. False primes consists with 3 or 4 primary decomposition numbers.\n",
    "* 2. False primes do not have repeated primary decomposition numbers.\n",
    "* 3. Interval of false prime occurs are likely getting larger."
   ]
  }
 ],
 "metadata": {
  "kernelspec": {
   "display_name": "Python 3 (ipykernel)",
   "language": "python",
   "name": "python3"
  },
  "language_info": {
   "codemirror_mode": {
    "name": "ipython",
    "version": 3
   },
   "file_extension": ".py",
   "mimetype": "text/x-python",
   "name": "python",
   "nbconvert_exporter": "python",
   "pygments_lexer": "ipython3",
   "version": "3.9.12"
  }
 },
 "nbformat": 4,
 "nbformat_minor": 5
}
