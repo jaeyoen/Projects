{
 "cells": [
  {
   "cell_type": "markdown",
   "id": "5389440c",
   "metadata": {},
   "source": [
    "JaeYoen Park 50194193"
   ]
  },
  {
   "cell_type": "markdown",
   "id": "ac173584",
   "metadata": {},
   "source": [
    "MTH 448"
   ]
  },
  {
   "cell_type": "markdown",
   "id": "22c14135",
   "metadata": {},
   "source": [
    "Due: 2023/04/23"
   ]
  },
  {
   "cell_type": "markdown",
   "id": "e71dbb6a",
   "metadata": {},
   "source": [
    "# Text Classification with naive Bayes"
   ]
  },
  {
   "cell_type": "markdown",
   "id": "753da9d5",
   "metadata": {},
   "source": [
    "## Introduction"
   ]
  },
  {
   "cell_type": "markdown",
   "id": "0bc6a3b8",
   "metadata": {},
   "source": [
    "These days, text classification is the fundamental technique in Natural Language Processing(NLP) that is essential to AI-chat such as Siri or Chat bot. It is a machine learning technique that assigns a set of predefined categories to open-ended text.[1] Text classification typically works based on machine learning techniques to analyze text data and learn pattern to make accurate predictions on new, unused data. From this project, we will be analyzing two different sources which are presidential debate transcript from web and movie reviews file by using naive Bayes inference. Our objective is to study how accuracy of Naive Bayes classifier improves by usage of list of stop words. "
   ]
  },
  {
   "cell_type": "markdown",
   "id": "8bf19d50",
   "metadata": {},
   "source": [
    "## Background"
   ]
  },
  {
   "cell_type": "markdown",
   "id": "adab47d2",
   "metadata": {},
   "source": [
    "### Naive Bayes"
   ]
  },
  {
   "cell_type": "markdown",
   "id": "824d3d29",
   "metadata": {},
   "source": [
    "Naive Bayes methods are a set of supervised learning algorithms based on applying Bayes’ theorem with the “naive” assumption of conditional independence between every pair of features given the value of the class variable.[2]\n",
    "The idea of this equation is classify from one of the classified result $y$ by calculating the probability considering the conditions.\n",
    "$$\n",
    "p(y | (x_1, x_2, x_3, \\dots, x_N)) \\varpropto p(y) \\times \\prod^N_{k = 1} p(x_k | y)\n",
    "$$\n",
    "\n",
    "for $y \\in \\{\\text{valuables to be judged}\\}$.\n",
    "\n",
    "In this project, We will be using $\\log( P(y|x) )$ instead of $ P(y|x) $ to avoid underflow errors."
   ]
  },
  {
   "cell_type": "markdown",
   "id": "f8902a1f",
   "metadata": {},
   "source": [
    "### Counter"
   ]
  },
  {
   "cell_type": "markdown",
   "id": "640942ad",
   "metadata": {},
   "source": [
    "Counter is essential library that is used to prepare for Text classification. As the data transformation of data frame contains classifying valuables and matching results, counter let classifying valuables to count the repetition of each words. Since the count is most important factor in classification to verify which matching result will most likely to be, it is required for preparation."
   ]
  },
  {
   "cell_type": "markdown",
   "id": "8033a451",
   "metadata": {},
   "source": [
    "### Laplace Smoothing"
   ]
  },
  {
   "cell_type": "markdown",
   "id": "e3fa6e74",
   "metadata": {},
   "source": [
    "Laplace Smoothing is a method that is used in multinomial Naive Bayes which prevents the zero probabilities during computation. It can be prevented by simply add 1 to counted data frame which 0 occurrence words to be 1. "
   ]
  },
  {
   "cell_type": "markdown",
   "id": "8398781d",
   "metadata": {},
   "source": [
    "### Clean Strings"
   ]
  },
  {
   "cell_type": "markdown",
   "id": "0b9cd9d9",
   "metadata": {},
   "source": [
    "Cleaning strings are one of the important task before classification. As the text contains characters such as punctuations or other characters that may disturb the classifications, we must clean the texts before going through the Counter. "
   ]
  },
  {
   "cell_type": "markdown",
   "id": "89319af0",
   "metadata": {},
   "source": [
    "### Stop words"
   ]
  },
  {
   "cell_type": "markdown",
   "id": "b125fae9",
   "metadata": {},
   "source": [
    "Stop words are the words that may disturb the prediction accuracy. It is called stop words because it is commonly used regardless of classification. While this project focus on debate transcript and movie reviews, it means words that are not related to language habits or words that cannot be judged negative or positive.\n",
    "\n",
    "Example of stop words are \"are\", \"at\", \"from\"."
   ]
  },
  {
   "cell_type": "markdown",
   "id": "56308534",
   "metadata": {},
   "source": [
    "## Data Acquisition"
   ]
  },
  {
   "cell_type": "markdown",
   "id": "a6177e57",
   "metadata": {},
   "source": [
    "### Import Necessary Libraries and data"
   ]
  },
  {
   "cell_type": "code",
   "execution_count": 1,
   "id": "d6d62f88",
   "metadata": {},
   "outputs": [
    {
     "name": "stdout",
     "output_type": "stream",
     "text": [
      "%pylab is deprecated, use %matplotlib inline and import the required libraries.\n",
      "Populating the interactive namespace from numpy and matplotlib\n"
     ]
    }
   ],
   "source": [
    "import requests\n",
    "import pandas as pd\n",
    "from bs4 import BeautifulSoup\n",
    "from collections import Counter\n",
    "from zipfile import ZipFile\n",
    "%pylab inline\n",
    "from sklearn.model_selection import train_test_split\n",
    "from scipy import stats as st\n",
    "from sklearn.metrics import confusion_matrix\n",
    "import seaborn as sns\n",
    "from tqdm import tqdm"
   ]
  },
  {
   "cell_type": "code",
   "execution_count": 2,
   "id": "600a4f6f",
   "metadata": {},
   "outputs": [],
   "source": [
    "# Presidential transcript url from October 7th, 2020.\n",
    "debate_url = 'https://www.debates.org/voter-education/debate-transcripts/vice-presidential-debate-at-the-university-of-utah-in-salt-lake-city-utah/'"
   ]
  },
  {
   "cell_type": "code",
   "execution_count": 3,
   "id": "0494b1d5",
   "metadata": {},
   "outputs": [
    {
     "data": {
      "text/html": [
       "<div>\n",
       "<style scoped>\n",
       "    .dataframe tbody tr th:only-of-type {\n",
       "        vertical-align: middle;\n",
       "    }\n",
       "\n",
       "    .dataframe tbody tr th {\n",
       "        vertical-align: top;\n",
       "    }\n",
       "\n",
       "    .dataframe thead th {\n",
       "        text-align: right;\n",
       "    }\n",
       "</style>\n",
       "<table border=\"1\" class=\"dataframe\">\n",
       "  <thead>\n",
       "    <tr style=\"text-align: right;\">\n",
       "      <th></th>\n",
       "      <th>review</th>\n",
       "      <th>sentiment</th>\n",
       "    </tr>\n",
       "  </thead>\n",
       "  <tbody>\n",
       "    <tr>\n",
       "      <th>0</th>\n",
       "      <td>This film is absolutely awful, but nevertheles...</td>\n",
       "      <td>negative</td>\n",
       "    </tr>\n",
       "    <tr>\n",
       "      <th>1</th>\n",
       "      <td>Well since seeing part's 1 through 3 I can hon...</td>\n",
       "      <td>negative</td>\n",
       "    </tr>\n",
       "    <tr>\n",
       "      <th>2</th>\n",
       "      <td>I got to see this film at a preview and was da...</td>\n",
       "      <td>positive</td>\n",
       "    </tr>\n",
       "  </tbody>\n",
       "</table>\n",
       "</div>"
      ],
      "text/plain": [
       "                                              review sentiment\n",
       "0  This film is absolutely awful, but nevertheles...  negative\n",
       "1  Well since seeing part's 1 through 3 I can hon...  negative\n",
       "2  I got to see this film at a preview and was da...  positive"
      ]
     },
     "execution_count": 3,
     "metadata": {},
     "output_type": "execute_result"
    }
   ],
   "source": [
    "# Read movie reviews\n",
    "movies = pd.read_csv(\"movie_reviews.zip\")\n",
    "movies[:3]"
   ]
  },
  {
   "cell_type": "code",
   "execution_count": 4,
   "id": "84f789c7",
   "metadata": {},
   "outputs": [],
   "source": [
    "# Read stop words as a list\n",
    "with open('stopwords.txt') as f:\n",
    "    stops = f.read()\n",
    "stops = stops.split(',')"
   ]
  },
  {
   "cell_type": "markdown",
   "id": "ce520b01",
   "metadata": {},
   "source": [
    "## Data transformation"
   ]
  },
  {
   "cell_type": "code",
   "execution_count": 5,
   "id": "4174e4b8",
   "metadata": {},
   "outputs": [],
   "source": [
    "# Function to clean strings that aren't word.\n",
    "def clean_string(string):    \n",
    "    bad_strings = ['<br', '/', '>', ';', ',', '\\\\' ,'.','@','~','#','$','%','^','&','*','(' , ')','+','=','\"',':','`','<','>','?','!','[',']','1','2','3','4','5','6','7','8','9','0','\\n','--','[applause]','[inaudible]','[laughter]','[crosstalk]']\n",
    "    for baddy in bad_strings:\n",
    "        string = string.replace(baddy,'')\n",
    "    string = string.replace('-',' ').replace('  ',' ')\n",
    "    return string"
   ]
  },
  {
   "cell_type": "markdown",
   "id": "48fccdc9",
   "metadata": {},
   "source": [
    "### Presidential Debate Transcript "
   ]
  },
  {
   "cell_type": "markdown",
   "id": "cf2f8fb5",
   "metadata": {},
   "source": [
    "Transform Text data from Web by scraping the necessary information and turn into data frame.\n",
    "From source codes, debate transcripts are contained in each ptags. We acquire the certain range of ptags where actual debate is processed. While each transcript is formed by `Name: transcript`, we append each Name and transcript to list then turn into data frame.\n",
    "\n",
    "With data frame, we divide them into certain percentage as training data and testing data. In this project, we will be testing 20% of total data.\n",
    "\n",
    "After the process of cleaning strings and counting the words of training data, we create 2 separate data frame which are `Stop words dropped data as \"wc_s\"` and `original data as \"wc\"`."
   ]
  },
  {
   "cell_type": "code",
   "execution_count": 6,
   "id": "6f6ba1b1",
   "metadata": {},
   "outputs": [
    {
     "data": {
      "text/html": [
       "<div>\n",
       "<style scoped>\n",
       "    .dataframe tbody tr th:only-of-type {\n",
       "        vertical-align: middle;\n",
       "    }\n",
       "\n",
       "    .dataframe tbody tr th {\n",
       "        vertical-align: top;\n",
       "    }\n",
       "\n",
       "    .dataframe thead th {\n",
       "        text-align: right;\n",
       "    }\n",
       "</style>\n",
       "<table border=\"1\" class=\"dataframe\">\n",
       "  <thead>\n",
       "    <tr style=\"text-align: right;\">\n",
       "      <th></th>\n",
       "      <th>Name</th>\n",
       "      <th>Transcript</th>\n",
       "    </tr>\n",
       "  </thead>\n",
       "  <tbody>\n",
       "    <tr>\n",
       "      <th>0</th>\n",
       "      <td>PAGE</td>\n",
       "      <td>Good evening. From the University of Utah in S...</td>\n",
       "    </tr>\n",
       "    <tr>\n",
       "      <th>1</th>\n",
       "      <td>PENCE</td>\n",
       "      <td>Thank you.</td>\n",
       "    </tr>\n",
       "    <tr>\n",
       "      <th>2</th>\n",
       "      <td>PAGE</td>\n",
       "      <td>Senator Harris and Vice President Pence thank ...</td>\n",
       "    </tr>\n",
       "  </tbody>\n",
       "</table>\n",
       "</div>"
      ],
      "text/plain": [
       "    Name                                         Transcript\n",
       "0   PAGE  Good evening. From the University of Utah in S...\n",
       "1  PENCE                                         Thank you.\n",
       "2   PAGE  Senator Harris and Vice President Pence thank ..."
      ]
     },
     "execution_count": 6,
     "metadata": {},
     "output_type": "execute_result"
    }
   ],
   "source": [
    "# Using Beautiful Soup to scrape texts from website. Append Name and Transcript to the list then create a data frame.\n",
    "debate = requests.get(debate_url).text\n",
    "debate = BeautifulSoup(debate)\n",
    "Name =[]\n",
    "Transcript =[]\n",
    "\n",
    "ptags = debate.find_all('p') # Find all <p> tags\n",
    "p = ptags[4:-1]\n",
    "\n",
    "for i in range(len(p)):\n",
    "    \n",
    "    if p[i].findAll('b') != []: # Find location of name, transcript\n",
    "        name = p[i].findAll('b')[0].text.strip(':') # Find all the speakers\n",
    "        transcript = p[i].find('b').nextSibling.get_text().strip('\\xa0') # Find all the transcript strings\n",
    "        \n",
    "        Name.append(name)\n",
    "        Transcript.append(transcript)\n",
    "        \n",
    "    if p[i].findAll('b') == []:\n",
    "        transcript += p[i].get_text()\n",
    " \n",
    "        Transcript[i-1] = transcript\n",
    "    \n",
    "ts = pd.DataFrame()\n",
    "ts['Name'] = Name\n",
    "ts['Transcript'] = Transcript\n",
    "ts[:3]"
   ]
  },
  {
   "cell_type": "code",
   "execution_count": 7,
   "id": "a8c206fa",
   "metadata": {},
   "outputs": [
    {
     "data": {
      "text/plain": [
       "array(['PAGE', 'PENCE', 'HARRIS'], dtype=object)"
      ]
     },
     "execution_count": 7,
     "metadata": {},
     "output_type": "execute_result"
    }
   ],
   "source": [
    "ts['Name'].unique() # 3 Names from transcript"
   ]
  },
  {
   "cell_type": "code",
   "execution_count": 8,
   "id": "e2333fda",
   "metadata": {},
   "outputs": [
    {
     "name": "stderr",
     "output_type": "stream",
     "text": [
      "100%|██████████████████████████████████████| 195/195 [00:00<00:00, 11437.73it/s]\n"
     ]
    }
   ],
   "source": [
    "# Divide the data frame by certain percentage as 80% training and 20% testing.\n",
    "# Count the words after cleaning the strings\n",
    "counter_page = Counter([])\n",
    "counter_pence = Counter([])\n",
    "counter_harris = Counter([])\n",
    "\n",
    "X_train1, X_test1, y_train1, y_test1 = train_test_split(ts['Transcript'], \n",
    "                                                    ts['Name'], \n",
    "                                                    test_size=0.2, \n",
    "                                                    random_state=1) # sklearn library that split 20% as testing.\n",
    "n = len(X_train1)\n",
    "for i in tqdm(range(len(X_train1))): # Count words thorugh all training data \n",
    "    words = ts.loc[i,'Transcript'].lower()\n",
    "    words = clean_string(words)   # Clean string \n",
    "    words = words.split(' ')\n",
    "    \n",
    "    if ts.loc[i,'Name'] == \"PAGE\":\n",
    "        counter_page += Counter(words) #Count to PAGE column\n",
    "    if ts.loc[i,'Name'] == \"PENCE\":\n",
    "        counter_pence += Counter(words) #Count to PENCE column\n",
    "    else:\n",
    "        counter_harris += Counter(words) #Count to HARRIS column"
   ]
  },
  {
   "cell_type": "code",
   "execution_count": 9,
   "id": "7b8d4a7f",
   "metadata": {},
   "outputs": [
    {
     "data": {
      "text/html": [
       "<div>\n",
       "<style scoped>\n",
       "    .dataframe tbody tr th:only-of-type {\n",
       "        vertical-align: middle;\n",
       "    }\n",
       "\n",
       "    .dataframe tbody tr th {\n",
       "        vertical-align: top;\n",
       "    }\n",
       "\n",
       "    .dataframe thead th {\n",
       "        text-align: right;\n",
       "    }\n",
       "</style>\n",
       "<table border=\"1\" class=\"dataframe\">\n",
       "  <thead>\n",
       "    <tr style=\"text-align: right;\">\n",
       "      <th></th>\n",
       "      <th>PAGE</th>\n",
       "      <th>PENCE</th>\n",
       "      <th>HARRIS</th>\n",
       "    </tr>\n",
       "  </thead>\n",
       "  <tbody>\n",
       "    <tr>\n",
       "      <th>good</th>\n",
       "      <td>2</td>\n",
       "      <td>0</td>\n",
       "      <td>4</td>\n",
       "    </tr>\n",
       "    <tr>\n",
       "      <th>evening</th>\n",
       "      <td>1</td>\n",
       "      <td>0</td>\n",
       "      <td>1</td>\n",
       "    </tr>\n",
       "    <tr>\n",
       "      <th>from</th>\n",
       "      <td>5</td>\n",
       "      <td>13</td>\n",
       "      <td>11</td>\n",
       "    </tr>\n",
       "    <tr>\n",
       "      <th>the</th>\n",
       "      <td>112</td>\n",
       "      <td>323</td>\n",
       "      <td>319</td>\n",
       "    </tr>\n",
       "    <tr>\n",
       "      <th>university</th>\n",
       "      <td>1</td>\n",
       "      <td>1</td>\n",
       "      <td>2</td>\n",
       "    </tr>\n",
       "  </tbody>\n",
       "</table>\n",
       "</div>"
      ],
      "text/plain": [
       "            PAGE  PENCE  HARRIS\n",
       "good           2      0       4\n",
       "evening        1      0       1\n",
       "from           5     13      11\n",
       "the          112    323     319\n",
       "university     1      1       2"
      ]
     },
     "execution_count": 9,
     "metadata": {},
     "output_type": "execute_result"
    }
   ],
   "source": [
    "# Convert the Counter to data frame as well as number types and filling n/a\n",
    "d1 = {\"PAGE\":counter_page,\"PENCE\":counter_pence,\"HARRIS\":counter_harris}\n",
    "wc = pd.DataFrame(d1)\n",
    "wc = wc.fillna(0)\n",
    "wc.PAGE = wc.PAGE.astype(int)\n",
    "wc.PENCE = wc.PENCE.astype(int)\n",
    "wc.HARRIS = wc.HARRIS.astype(int)\n",
    "wc[:5]"
   ]
  },
  {
   "cell_type": "code",
   "execution_count": 10,
   "id": "25714490",
   "metadata": {
    "scrolled": true
   },
   "outputs": [
    {
     "data": {
      "text/html": [
       "<div>\n",
       "<style scoped>\n",
       "    .dataframe tbody tr th:only-of-type {\n",
       "        vertical-align: middle;\n",
       "    }\n",
       "\n",
       "    .dataframe tbody tr th {\n",
       "        vertical-align: top;\n",
       "    }\n",
       "\n",
       "    .dataframe thead th {\n",
       "        text-align: right;\n",
       "    }\n",
       "</style>\n",
       "<table border=\"1\" class=\"dataframe\">\n",
       "  <thead>\n",
       "    <tr style=\"text-align: right;\">\n",
       "      <th></th>\n",
       "      <th>PAGE</th>\n",
       "      <th>PENCE</th>\n",
       "      <th>HARRIS</th>\n",
       "    </tr>\n",
       "  </thead>\n",
       "  <tbody>\n",
       "    <tr>\n",
       "      <th>good</th>\n",
       "      <td>3</td>\n",
       "      <td>1</td>\n",
       "      <td>5</td>\n",
       "    </tr>\n",
       "    <tr>\n",
       "      <th>evening</th>\n",
       "      <td>2</td>\n",
       "      <td>1</td>\n",
       "      <td>2</td>\n",
       "    </tr>\n",
       "    <tr>\n",
       "      <th>university</th>\n",
       "      <td>2</td>\n",
       "      <td>2</td>\n",
       "      <td>3</td>\n",
       "    </tr>\n",
       "    <tr>\n",
       "      <th>utah</th>\n",
       "      <td>2</td>\n",
       "      <td>2</td>\n",
       "      <td>2</td>\n",
       "    </tr>\n",
       "  </tbody>\n",
       "</table>\n",
       "</div>"
      ],
      "text/plain": [
       "            PAGE  PENCE  HARRIS\n",
       "good           3      1       5\n",
       "evening        2      1       2\n",
       "university     2      2       3\n",
       "utah           2      2       2"
      ]
     },
     "execution_count": 10,
     "metadata": {},
     "output_type": "execute_result"
    }
   ],
   "source": [
    "# Create another data frame which stop words are dropped then apply laplace smoothing.\n",
    "wc_s = wc.drop(stops, errors='ignore')\n",
    "wc_s = wc_s + 1\n",
    "wc_s[:4]"
   ]
  },
  {
   "cell_type": "code",
   "execution_count": 11,
   "id": "f9baa8a1",
   "metadata": {},
   "outputs": [],
   "source": [
    "# Apply laplace smoothing to original data frame.\n",
    "wc = wc + 1"
   ]
  },
  {
   "cell_type": "markdown",
   "id": "741a6b6d",
   "metadata": {},
   "source": [
    "### Movie reviews"
   ]
  },
  {
   "cell_type": "markdown",
   "id": "94e92c5e",
   "metadata": {},
   "source": [
    "With movie reviews read from csv files into data frame, divide the data frame into training data and testing data. In this project, we will be testing 20% of total data.\n",
    "\n",
    "After the process of cleaning strings and counting the words of training data, we create 2 separate data frame which are `Stop words dropped data as \"wc2_s\"` and `original data as \"wc2\"`."
   ]
  },
  {
   "cell_type": "code",
   "execution_count": 12,
   "id": "02cd0b55",
   "metadata": {},
   "outputs": [
    {
     "name": "stderr",
     "output_type": "stream",
     "text": [
      "100%|████████████████████████████████████| 20000/20000 [00:31<00:00, 643.16it/s]\n"
     ]
    }
   ],
   "source": [
    "# Divide the data frame by certain percentage as 80% training and 20% testing.\n",
    "# Count the words after cleaning the strings\n",
    "counter_pos = Counter([])\n",
    "counter_neg = Counter([])\n",
    "\n",
    "X_train2, X_test2, y_train2, y_test2 = train_test_split(movies['review'], \n",
    "                                                    movies['sentiment'], \n",
    "                                                    test_size=0.2, \n",
    "                                                    random_state=1) # sklearn library that split 20% as testing.\n",
    "\n",
    "n = len(X_train2)\n",
    "for i in tqdm(range(len(X_train2))): # Count words thorugh all training data \n",
    "    words = movies.loc[i,'review'].lower()\n",
    "    words = clean_string(words)    # Clean string\n",
    "    words = words.split(' ')\n",
    "    \n",
    "    if movies.loc[i,'sentiment'] == \"positive\":\n",
    "        counter_pos += Counter(words) #Count to positive column\n",
    "    else:\n",
    "        counter_neg += Counter(words) # Count to negative column\n"
   ]
  },
  {
   "cell_type": "code",
   "execution_count": 13,
   "id": "02515b66",
   "metadata": {},
   "outputs": [
    {
     "data": {
      "text/html": [
       "<div>\n",
       "<style scoped>\n",
       "    .dataframe tbody tr th:only-of-type {\n",
       "        vertical-align: middle;\n",
       "    }\n",
       "\n",
       "    .dataframe tbody tr th {\n",
       "        vertical-align: top;\n",
       "    }\n",
       "\n",
       "    .dataframe thead th {\n",
       "        text-align: right;\n",
       "    }\n",
       "</style>\n",
       "<table border=\"1\" class=\"dataframe\">\n",
       "  <thead>\n",
       "    <tr style=\"text-align: right;\">\n",
       "      <th></th>\n",
       "      <th>Negative</th>\n",
       "      <th>Positive</th>\n",
       "    </tr>\n",
       "  </thead>\n",
       "  <tbody>\n",
       "    <tr>\n",
       "      <th>this</th>\n",
       "      <td>32814</td>\n",
       "      <td>27747</td>\n",
       "    </tr>\n",
       "    <tr>\n",
       "      <th>film</th>\n",
       "      <td>14877</td>\n",
       "      <td>16014</td>\n",
       "    </tr>\n",
       "    <tr>\n",
       "      <th>is</th>\n",
       "      <td>40412</td>\n",
       "      <td>45299</td>\n",
       "    </tr>\n",
       "    <tr>\n",
       "      <th>absolutely</th>\n",
       "      <td>683</td>\n",
       "      <td>511</td>\n",
       "    </tr>\n",
       "    <tr>\n",
       "      <th>awful</th>\n",
       "      <td>1213</td>\n",
       "      <td>126</td>\n",
       "    </tr>\n",
       "  </tbody>\n",
       "</table>\n",
       "</div>"
      ],
      "text/plain": [
       "            Negative  Positive\n",
       "this           32814     27747\n",
       "film           14877     16014\n",
       "is             40412     45299\n",
       "absolutely       683       511\n",
       "awful           1213       126"
      ]
     },
     "execution_count": 13,
     "metadata": {},
     "output_type": "execute_result"
    }
   ],
   "source": [
    "# Convert the Counter to data frame as well as number types and filling n/a\n",
    "d = {\"Negative\":counter_neg,\"Positive\":counter_pos}\n",
    "wc2 = pd.DataFrame(d)\n",
    "wc2 = wc2.fillna(0)\n",
    "wc2.Negative = wc2.Negative.astype(int)\n",
    "wc2.Positive = wc2.Positive.astype(int)\n",
    "wc2[:5]"
   ]
  },
  {
   "cell_type": "code",
   "execution_count": 14,
   "id": "d0e8b257",
   "metadata": {},
   "outputs": [
    {
     "data": {
      "text/html": [
       "<div>\n",
       "<style scoped>\n",
       "    .dataframe tbody tr th:only-of-type {\n",
       "        vertical-align: middle;\n",
       "    }\n",
       "\n",
       "    .dataframe tbody tr th {\n",
       "        vertical-align: top;\n",
       "    }\n",
       "\n",
       "    .dataframe thead th {\n",
       "        text-align: right;\n",
       "    }\n",
       "</style>\n",
       "<table border=\"1\" class=\"dataframe\">\n",
       "  <thead>\n",
       "    <tr style=\"text-align: right;\">\n",
       "      <th></th>\n",
       "      <th>Negative</th>\n",
       "      <th>Positive</th>\n",
       "    </tr>\n",
       "  </thead>\n",
       "  <tbody>\n",
       "    <tr>\n",
       "      <th>film</th>\n",
       "      <td>14878</td>\n",
       "      <td>16015</td>\n",
       "    </tr>\n",
       "    <tr>\n",
       "      <th>absolutely</th>\n",
       "      <td>684</td>\n",
       "      <td>512</td>\n",
       "    </tr>\n",
       "    <tr>\n",
       "      <th>awful</th>\n",
       "      <td>1214</td>\n",
       "      <td>127</td>\n",
       "    </tr>\n",
       "    <tr>\n",
       "      <th>nevertheless</th>\n",
       "      <td>58</td>\n",
       "      <td>121</td>\n",
       "    </tr>\n",
       "  </tbody>\n",
       "</table>\n",
       "</div>"
      ],
      "text/plain": [
       "              Negative  Positive\n",
       "film             14878     16015\n",
       "absolutely         684       512\n",
       "awful             1214       127\n",
       "nevertheless        58       121"
      ]
     },
     "execution_count": 14,
     "metadata": {},
     "output_type": "execute_result"
    }
   ],
   "source": [
    "# Create another data frame which stop words are dropped then apply laplace smoothing.\n",
    "wc2_s = wc2.drop(stops, errors='ignore')\n",
    "wc2_s = wc2_s + 1\n",
    "wc2_s[:4]"
   ]
  },
  {
   "cell_type": "code",
   "execution_count": 15,
   "id": "9138bb73",
   "metadata": {},
   "outputs": [],
   "source": [
    "# Apply laplace smoothing to original data frame.\n",
    "wc2 = wc2 + 1"
   ]
  },
  {
   "cell_type": "markdown",
   "id": "7a5c3b6c",
   "metadata": {},
   "source": [
    "## How do stop words effect the prediction accuracy?"
   ]
  },
  {
   "cell_type": "markdown",
   "id": "6fb6eab6",
   "metadata": {},
   "source": [
    "While predicting the results by going over each words from text, there exist multiple factors that could effect the accuracy in prediction. In this project, we will observe the condition when absence of stop words. \n",
    "\n",
    "In this stage we will apply the function that compute the prediction based on Naive Bayes method. Each string we will go through the process of cleaning, split as word, compute, append prediction into list. With Prediction list and actual list, create a confusion matrix to visualize the result and check the accuracy."
   ]
  },
  {
   "cell_type": "markdown",
   "id": "f3f13f21",
   "metadata": {},
   "source": [
    "### Presidential Transcript (Stop words included)"
   ]
  },
  {
   "cell_type": "code",
   "execution_count": 16,
   "id": "1b3948a0",
   "metadata": {},
   "outputs": [],
   "source": [
    "# Function that predict the speaker by Naive Bayes inference\n",
    "def trs1_probs(X_text1):\n",
    "    value_page_lst = []\n",
    "    value_pence_lst = []\n",
    "    value_harris_lst = []\n",
    "\n",
    "    words = clean_string(X_text1).lower().split(' ') #Clean string\n",
    "    for word in words:\n",
    "        try:\n",
    "            p = wc.loc[word]/wc.sum() # The probability P[x|y] for either y=PAGE or y=PENCE or y=HARRIS.\n",
    "            value_page_lst.append(p[\"PAGE\"])\n",
    "            value_pence_lst.append(p[\"PENCE\"])\n",
    "            value_harris_lst.append(p[\"HARRIS\"])\n",
    "        except:\n",
    "            None\n",
    "\n",
    "    tot = np.array(wc.sum()).sum() # Total number of words regardless of speaker.\n",
    "    prod = np.ones(3) # There are three states, PAGE, PENCE, HARRIS.  We initialize with 1.\n",
    "    prod[0] = wc['PAGE'].sum()/(tot) # The probability P[y=PAGE] that a random word is spoken by PAGE.\n",
    "    prod[1] = wc['PENCE'].sum()/(tot) # The probability P[y=PENCE] that a random word is spoken by PENCE.\n",
    "    prod[2] = wc['HARRIS'].sum()/(tot) # The probability P[y=HARRIS] that a random word is spoken by HARRIS.\n",
    "    \n",
    "    prod = np.log10(prod) # We take the log, since we are doing log likelihood.\n",
    "    \n",
    "    prod[0] += np.log10(value_page_lst).sum() # Log likelihood means we add logs of the probability.\n",
    "    prod[1] += np.log10(value_pence_lst).sum()\n",
    "    prod[2] += np.log10(value_harris_lst).sum()\n",
    "\n",
    "    return ['PAGE','PENCE','HARRIS'][np.argmax(prod)] # return the speaker with highest probability."
   ]
  },
  {
   "cell_type": "code",
   "execution_count": 17,
   "id": "accf540f",
   "metadata": {
    "scrolled": true
   },
   "outputs": [],
   "source": [
    "# Apply the above function to predict all the testing data\n",
    "n = len(X_test1)\n",
    "prediction =[]\n",
    "actual =[]\n",
    "for i in range(n):\n",
    "    prediction.append(trs1_probs(X_test1.iloc[i]))\n",
    "    actual.append(y_test1.iloc[i])\n",
    "#prediction, actual"
   ]
  },
  {
   "cell_type": "code",
   "execution_count": 18,
   "id": "755350dd",
   "metadata": {
    "scrolled": false
   },
   "outputs": [
    {
     "data": {
      "image/png": "[encoded data removed]",
      "text/plain": [
       "<Figure size 720x576 with 2 Axes>"
      ]
     },
     "metadata": {
      "needs_background": "light"
     },
     "output_type": "display_data"
    }
   ],
   "source": [
    "# Visualize confusion matrix as heatmap\n",
    "y_true= actual # Array of real labels\n",
    "y_pred= prediction # Array of predicted labels\n",
    "c =confusion_matrix(y_true, y_pred) # Confusion matrix\n",
    "plt.figure(figsize=(10, 8))\n",
    "\n",
    "sns.heatmap(c, \n",
    "            annot=True,\n",
    "            annot_kws = {\"fontsize\": 16},\n",
    "            cbar=True,\n",
    "            linewidth=2,\n",
    "            square=True,\n",
    "            cmap=\"Blues_r\"\n",
    "            \n",
    ")\n",
    "plt.title(\"80% training, 20% testing, Stop words included\")\n",
    "plt.xlabel(\"Prediction\")\n",
    "plt.ylabel(\"Actual\")\n",
    "plt.show()"
   ]
  },
  {
   "cell_type": "code",
   "execution_count": 19,
   "id": "bc43c082",
   "metadata": {},
   "outputs": [
    {
     "name": "stdout",
     "output_type": "stream",
     "text": [
      "The accuracy of prediction in debate(stop words included) was 93.87755102040816%\n"
     ]
    }
   ],
   "source": [
    "accuracy = (c[0,0]+c[1,1]+c[2,2]) / len(prediction) * 100\n",
    "print(\"The accuracy of prediction in debate(stop words included) was \"+ str(accuracy)+\"%\")"
   ]
  },
  {
   "cell_type": "markdown",
   "id": "5dc3774e",
   "metadata": {},
   "source": [
    "### Presidential Transcript (Stop words not included)"
   ]
  },
  {
   "cell_type": "code",
   "execution_count": 20,
   "id": "4869f072",
   "metadata": {},
   "outputs": [],
   "source": [
    "def trs_probs(X_text1):\n",
    "    value_page_lst = []\n",
    "    value_pence_lst = []\n",
    "    value_harris_lst = []\n",
    "\n",
    "    words = clean_string(X_text1).lower().split(' ')\n",
    "    for word in words:\n",
    "        if word in stops: # We want to make sure we're not using a stop word.\n",
    "            None\n",
    "        else:\n",
    "            try:\n",
    "                p = wc_s.loc[word]/wc_s.sum() # The probability P[x|y] for either y=PAGE or y=PENCE or y=HARRIS.\n",
    "                value_page_lst.append(p[\"PAGE\"])\n",
    "                value_pence_lst.append(p[\"PENCE\"])\n",
    "                value_harris_lst.append(p[\"HARRIS\"])\n",
    "                \n",
    "            except:\n",
    "                None\n",
    "  \n",
    "    tot = np.array(wc_s.sum()).sum() # Total number of words regardless of speaker.\n",
    "    prod = np.ones(3) # There are three states, PAGE, PENCE, HARRIS.  We initialize with 1.\n",
    "    prod[0] = wc_s['PAGE'].sum()/(tot) # The probability P[y=PAGE] that a random word is spoken by PAGE.\n",
    "    prod[1] = wc_s['PENCE'].sum()/(tot) # The probability P[y=PENCE] that a random word is spoken by PENCE.\n",
    "    prod[2] = wc_s['HARRIS'].sum()/(tot) # The probability P[y=HARRIS] that a random word is spoken by HARRIS.\n",
    "    \n",
    "    prod = np.log10(prod) # We take the log, since we are doing log likelihood.\n",
    "    \n",
    "    prod[0] += np.log10(value_page_lst).sum() # Log likelihood means we add logs of the probability.\n",
    "    prod[1] += np.log10(value_pence_lst).sum()\n",
    "    prod[2] += np.log10(value_harris_lst).sum()\n",
    "\n",
    "    return ['PAGE','PENCE','HARRIS'][np.argmax(prod)] # return the speaker with highest probability."
   ]
  },
  {
   "cell_type": "code",
   "execution_count": 21,
   "id": "06ce3656",
   "metadata": {
    "scrolled": true
   },
   "outputs": [],
   "source": [
    "# Apply the above function to predict all the testing data\n",
    "n = len(X_test1)\n",
    "prediction =[]\n",
    "actual =[]\n",
    "for i in range(n):\n",
    "    prediction.append(trs_probs(X_test1.iloc[i]))\n",
    "    actual.append(y_test1.iloc[i])\n",
    "#prediction, actual"
   ]
  },
  {
   "cell_type": "code",
   "execution_count": 22,
   "id": "7fa4ed21",
   "metadata": {
    "scrolled": false
   },
   "outputs": [
    {
     "data": {
      "image/png": "[encoded data removed]",
      "text/plain": [
       "<Figure size 720x576 with 2 Axes>"
      ]
     },
     "metadata": {
      "needs_background": "light"
     },
     "output_type": "display_data"
    }
   ],
   "source": [
    "# Visualize confusion matrix as heatmap\n",
    "y_true= actual # Array of real labels\n",
    "y_pred= prediction # Array of predicted labels\n",
    "c =confusion_matrix(y_true, y_pred) # Confusion matrix\n",
    "\n",
    "plt.figure(figsize=(10, 8))\n",
    "\n",
    "sns.heatmap(c, \n",
    "            annot=True,\n",
    "            annot_kws = {\"fontsize\": 16},\n",
    "            cbar=True,\n",
    "            linewidth=2,\n",
    "            square=True,\n",
    "            cmap=\"Blues_r\"\n",
    "            \n",
    ")\n",
    "plt.title(\"80% training, 20% testing, Stop words not included\")\n",
    "plt.xlabel(\"Prediction\")\n",
    "plt.ylabel(\"Actual\")\n",
    "plt.show()"
   ]
  },
  {
   "cell_type": "code",
   "execution_count": 23,
   "id": "7f5edd23",
   "metadata": {},
   "outputs": [
    {
     "name": "stdout",
     "output_type": "stream",
     "text": [
      "The accuracy of prediction in debate(stop words excluded) was 95.91836734693877%\n"
     ]
    }
   ],
   "source": [
    "accuracy = (c[0,0]+c[1,1]+c[2,2]) / len(prediction) * 100\n",
    "print(\"The accuracy of prediction in debate(stop words excluded) was \"+ str(accuracy)+\"%\")"
   ]
  },
  {
   "cell_type": "markdown",
   "id": "5c9f6464",
   "metadata": {},
   "source": [
    "### Movie reviews (Stop words included)"
   ]
  },
  {
   "cell_type": "code",
   "execution_count": 24,
   "id": "e3d4352e",
   "metadata": {},
   "outputs": [],
   "source": [
    "# Function that predict the tendency of movie review by Naive Bayes inference\n",
    "def rev1_probs(X_text2):\n",
    "    value_pos_lst = []\n",
    "    value_neg_lst = []\n",
    "\n",
    "    words = clean_string(X_text2).lower().split(' ') # Clean string\n",
    "    for word in words:\n",
    "        try:\n",
    "            p = wc2.loc[word]/wc2.sum() # The probability P[x|y] for either y=negative or y=positive.\n",
    "            value_pos_lst.append(p[\"Positive\"])\n",
    "            value_neg_lst.append(p[\"Negative\"])\n",
    "        except:\n",
    "            None\n",
    "                    \n",
    "    tot = np.array(wc2.sum()).sum() # Total number of words regardless of positive or negative.\n",
    "    prod = np.ones(2) # There are two states, positive or negative.  We initialize with 1.\n",
    "    prod[0] = wc2['Negative'].sum()/(tot) #  The probability that a random word is negative.\n",
    "    prod[1] = wc2['Positive'].sum()/(tot) #  The probability that a random word is positive.\n",
    "    prod = np.log10(prod) # We take the log, since we are doing log likelihood.\n",
    "    \n",
    "    prod[0] += np.log10(value_neg_lst).sum() # Log likelihood means we add logs of the probability.\n",
    "    prod[1] += np.log10(value_pos_lst).sum()\n",
    "\n",
    "    return ['negative','positive'][np.argmax(prod)] # return the tendency of the review with highest probability."
   ]
  },
  {
   "cell_type": "code",
   "execution_count": 25,
   "id": "b884a4b1",
   "metadata": {},
   "outputs": [],
   "source": [
    "# Apply the above function to predict all the testing data\n",
    "n = len(X_test2)\n",
    "prediction =[]\n",
    "actual =[]\n",
    "for i in range(n):\n",
    "    prediction.append(rev1_probs(X_test2.iloc[i]))\n",
    "    actual.append(y_test2.iloc[i])\n",
    "#prediction, actual"
   ]
  },
  {
   "cell_type": "code",
   "execution_count": 26,
   "id": "0af8e9d5",
   "metadata": {},
   "outputs": [
    {
     "data": {
      "image/png": "[encoded data removed]",
      "text/plain": [
       "<Figure size 720x576 with 2 Axes>"
      ]
     },
     "metadata": {
      "needs_background": "light"
     },
     "output_type": "display_data"
    }
   ],
   "source": [
    "# Visualize confusion matrix as heatmap\n",
    "y_true= actual # Array of real labels\n",
    "y_pred= prediction # Array of predicted labels\n",
    "c =confusion_matrix(y_true, y_pred) # Confusion matrix\n",
    "plt.figure(figsize=(10, 8))\n",
    "\n",
    "sns.heatmap(c, \n",
    "            annot=True,\n",
    "            annot_kws = {\"fontsize\": 16},\n",
    "            cbar=True,\n",
    "            linewidth=2,\n",
    "            square=True,\n",
    "            cmap=\"Blues_r\"\n",
    "            \n",
    ")\n",
    "plt.title(\"80% training, 20% testing, Stop words included\")\n",
    "plt.xlabel(\"Prediction\")\n",
    "plt.ylabel(\"Actual\")\n",
    "plt.show()"
   ]
  },
  {
   "cell_type": "code",
   "execution_count": 27,
   "id": "53aa5435",
   "metadata": {},
   "outputs": [
    {
     "name": "stdout",
     "output_type": "stream",
     "text": [
      "The accuracy of prediction in movie reviews(stop words included) was 89.66%\n"
     ]
    }
   ],
   "source": [
    "accuracy = (c[0,0]+c[1,1]) / len(prediction) * 100\n",
    "print(\"The accuracy of prediction in movie reviews(stop words included) was \"+ str(accuracy)+\"%\")"
   ]
  },
  {
   "cell_type": "markdown",
   "id": "e7156dec",
   "metadata": {},
   "source": [
    "### Movie reviews (Stop words not included)"
   ]
  },
  {
   "cell_type": "code",
   "execution_count": 28,
   "id": "0dee5529",
   "metadata": {},
   "outputs": [],
   "source": [
    "# Function that predict the tendency of movie review by Naive Bayes inference\n",
    "def rev_probs(X_text2):\n",
    "    value_pos_lst = []\n",
    "    value_neg_lst = []\n",
    "\n",
    "    words = clean_string(X_text2).lower().split(' ') # Clean string\n",
    "    for word in words:\n",
    "        if word in stops: # We want to make sure we're not using a stop word.\n",
    "            None\n",
    "        else:\n",
    "            try:\n",
    "                p = wc2_s.loc[word]/wc2_s.sum() # The probability P[x|y] for either y=negative or y=positive.\n",
    "                value_pos_lst.append(p[\"Positive\"])\n",
    "                value_neg_lst.append(p[\"Negative\"])\n",
    "            except:\n",
    "                None\n",
    "\n",
    "    tot = np.array(wc2_s.sum()).sum() # Total number of words regardless of positive or negative.\n",
    "    prod = np.ones(2) # There are two states, positive or negative.  We initialize with 1.\n",
    "    prod[0] = wc2_s['Negative'].sum()/(tot) #  The probability that a random word is negative.\n",
    "    prod[1] = wc2_s['Positive'].sum()/(tot) #  The probability that a random word is positive.\n",
    "    prod = np.log10(prod) # We take the log, since we are doing log likelihood.\n",
    "    \n",
    "    prod[0] += np.log10(value_neg_lst).sum() # Log likelihood means we add logs of the probability.\n",
    "    prod[1] += np.log10(value_pos_lst).sum()\n",
    "\n",
    "    return ['negative','positive'][np.argmax(prod)] # return the tendency of the review with highest probability."
   ]
  },
  {
   "cell_type": "code",
   "execution_count": 29,
   "id": "6266a61e",
   "metadata": {},
   "outputs": [],
   "source": [
    "# Apply the above function to predict all the testing data \n",
    "n = len(X_test2)\n",
    "prediction =[]\n",
    "actual =[]\n",
    "for i in range(n):\n",
    "    prediction.append(rev_probs(X_test2.iloc[i]))\n",
    "    actual.append(y_test2.iloc[i])\n",
    "#prediction, actual"
   ]
  },
  {
   "cell_type": "code",
   "execution_count": 30,
   "id": "dbfe0a4c",
   "metadata": {
    "scrolled": false
   },
   "outputs": [
    {
     "data": {
      "image/png": "[encoded data removed]",
      "text/plain": [
       "<Figure size 720x576 with 2 Axes>"
      ]
     },
     "metadata": {
      "needs_background": "light"
     },
     "output_type": "display_data"
    }
   ],
   "source": [
    "# Visualize confusion matrix as heatmap\n",
    "y_true= actual # Array of real labels\n",
    "y_pred= prediction # Array of predicted labels\n",
    "c =confusion_matrix(y_true, y_pred) # Confusion matrix\n",
    "plt.figure(figsize=(10, 8))\n",
    "\n",
    "sns.heatmap(c, \n",
    "            annot=True,\n",
    "            annot_kws = {\"fontsize\": 16},\n",
    "            cbar=True,\n",
    "            linewidth=2,\n",
    "            square=True,\n",
    "            cmap=\"Blues_r\"\n",
    "            \n",
    ")\n",
    "plt.title(\"80% training, 20% testing, Stop words not included\")\n",
    "plt.xlabel(\"Prediction\")\n",
    "plt.ylabel(\"Actual\")\n",
    "plt.show()"
   ]
  },
  {
   "cell_type": "code",
   "execution_count": 31,
   "id": "176a2040",
   "metadata": {},
   "outputs": [
    {
     "name": "stdout",
     "output_type": "stream",
     "text": [
      "The accuracy of prediction in movie reviews(stop words excluded) was 90.96%\n"
     ]
    }
   ],
   "source": [
    "accuracy = (c[0,0]+c[1,1]) / len(prediction)* 100\n",
    "print(\"The accuracy of prediction in movie reviews(stop words excluded) was \"+ str(accuracy)+\"%\")"
   ]
  },
  {
   "cell_type": "markdown",
   "id": "b3e9243d",
   "metadata": {},
   "source": [
    "## Conclusion"
   ]
  },
  {
   "cell_type": "markdown",
   "id": "1e793d55",
   "metadata": {},
   "source": [
    "Text classification is the fundamental technique in Natural Language Processing(NLP) that is essential to AI-chat such as Siri or Chat bot. In this project, we have studied the mechanism of text classification using Naive Bayes inference. From two source of data; presidential debate transcript from web and movie reviews from csv file, we predicted the speaker of debate and positive or negative of reviews. To be able to classify the text, Data Acquisition and data transformation is necessary task which the classifier could intake precise text. After the preparation of data frame with counted words, we applied Naive Bayes inference to predict the result. \n",
    "\n",
    "The key point of this classification is to analyze frequently used words as individual language habits, predict who is most likely to use the word through the test, or determine that the use of the word is mainly used in negative or positive situations, and through the test, each word is analyzed to predict whether it is negative or positive.\n",
    "\n",
    "However, there are words in the sentence that are not helpful for analysis. In the case of this project, it means words that are not related to language habits or words that cannot be judged negative or positive, and we call them stop words.\n",
    "\n",
    "The same amount of testing was applied to each debate and movie data, and analysis was performed considering only the presence or absence of stop words. As a result, both data showed a high prediction rate when the stop word was excluded. As a result of testing 20% of the total data, the prediction rate increased by about 2% for discussion data and about 1% for movie data. Hence, we were able to find out that text analyzers have multiple factors that can affect prediction rates, and stop words are one of them."
   ]
  },
  {
   "cell_type": "markdown",
   "id": "beb0e5c6",
   "metadata": {},
   "source": [
    "## Reference"
   ]
  },
  {
   "cell_type": "markdown",
   "id": "4d54455b",
   "metadata": {},
   "source": [
    "1.Text classification: What it is and why it matters. MonkeyLearn. (n.d.). Retrieved April 23, 2023, from https://monkeylearn.com/textclassification/#:~:text=Tutorial-,What%20is%20Text%20Classification%3F,and%20all%20over%20the%20web.[1]\n",
    "\n",
    "2.1.9. naive Bayes. scikit. (n.d.). Retrieved April 23, 2023, from https://scikitlearn.org/stable/modules/naive_bayes.html#:~:text=Naive%20Bayes%20methods%20are%20a,value%20of%20the%20class%20variable [2]\n",
    "\n",
    "3.October 07, 2020 Vice presidential debate transcript. CPD: October 07, 2020 Vice Presidential Debate Transcript. (n.d.). Retrieved April 23, 2023, from https://www.debates.org/voter-education/debate-transcripts/vice-presidential-debate-at-the-university-of-utah-in-salt-lake-city-utah/ "
   ]
  },
  {
   "cell_type": "code",
   "execution_count": null,
   "id": "4b57a78d",
   "metadata": {},
   "outputs": [],
   "source": []
  }
 ],
 "metadata": {
  "kernelspec": {
   "display_name": "Python 3 (ipykernel)",
   "language": "python",
   "name": "python3"
  },
  "language_info": {
   "codemirror_mode": {
    "name": "ipython",
    "version": 3
   },
   "file_extension": ".py",
   "mimetype": "text/x-python",
   "name": "python",
   "nbconvert_exporter": "python",
   "pygments_lexer": "ipython3",
   "version": "3.9.12"
  }
 },
 "nbformat": 4,
 "nbformat_minor": 5
}
