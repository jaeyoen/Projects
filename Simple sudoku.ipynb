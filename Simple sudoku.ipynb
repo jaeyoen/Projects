{
 "cells": [
  {
   "cell_type": "markdown",
   "id": "34553220",
   "metadata": {},
   "source": [
    "# Simple Sudoku"
   ]
  },
  {
   "cell_type": "code",
   "execution_count": 1,
   "id": "c911dfcd",
   "metadata": {},
   "outputs": [],
   "source": [
    "import numpy as np\n"
   ]
  },
  {
   "cell_type": "code",
   "execution_count": 2,
   "id": "35d1b100",
   "metadata": {},
   "outputs": [],
   "source": [
    "sudoku ='''0 4 0 0 0 0 1 7 9\n",
    "            0 0 2 0 0 8 0 5 4\n",
    "            0 0 6 0 0 5 0 0 8\n",
    "            0 8 0 0 7 0 9 1 0\n",
    "            0 5 0 0 9 0 0 3 0\n",
    "            0 1 9 0 6 0 0 4 0\n",
    "            3 0 0 4 0 0 7 0 0\n",
    "            5 7 0 1 0 0 2 0 0\n",
    "            9 2 8 0 0 0 0 6 0'''\n",
    "# Sudoku in string"
   ]
  },
  {
   "cell_type": "code",
   "execution_count": 3,
   "id": "e8ab4099",
   "metadata": {},
   "outputs": [],
   "source": [
    "s= np.array(sudoku.split(), dtype=\"int\") # split by newline or space then convert to integer\n",
    "s= s.reshape(9,9) # reshape to 9x9 matrix"
   ]
  },
  {
   "cell_type": "code",
   "execution_count": 4,
   "id": "63dcb030",
   "metadata": {},
   "outputs": [],
   "source": [
    "def check_row(s,i): # check the numbers that could fit in a row\n",
    "    rowset = {1,2,3,4,5,6,7,8,9}\n",
    "    row_num = rowset - set(s[i,:]) # difference between possible number = overall - already used\n",
    "    return row_num # set form"
   ]
  },
  {
   "cell_type": "code",
   "execution_count": 5,
   "id": "e8926836",
   "metadata": {},
   "outputs": [
    {
     "data": {
      "text/plain": [
       "{2, 3, 5, 6, 8}"
      ]
     },
     "execution_count": 5,
     "metadata": {},
     "output_type": "execute_result"
    }
   ],
   "source": [
    "check_row(s,0)"
   ]
  },
  {
   "cell_type": "code",
   "execution_count": 6,
   "id": "665dbcaf",
   "metadata": {},
   "outputs": [],
   "source": [
    "def check_col(s,j): # check the numbers that could fit in a col\n",
    "    colset = {1,2,3,4,5,6,7,8,9}\n",
    "    col_num = colset - set(s[:,j]) # difference between possible number = overall - already used\n",
    "    return col_num # set form"
   ]
  },
  {
   "cell_type": "code",
   "execution_count": 7,
   "id": "53b9e528",
   "metadata": {},
   "outputs": [
    {
     "data": {
      "text/plain": [
       "{1, 2, 4, 6, 7, 8}"
      ]
     },
     "execution_count": 7,
     "metadata": {},
     "output_type": "execute_result"
    }
   ],
   "source": [
    "check_col(s,0)"
   ]
  },
  {
   "cell_type": "code",
   "execution_count": 8,
   "id": "c00b8b11",
   "metadata": {},
   "outputs": [],
   "source": [
    "def check_box(s,i,j): # check the numbers that could fit in a 3x3 box\n",
    "    boxset={1,2,3,4,5,6,7,8,9}\n",
    "    start_i = 3*(i //3) # starting row\n",
    "    end_i = start_i +3 # ending row\n",
    "    start_j = 3*(j //3) # starting col\n",
    "    end_j =start_j +3 # ending col\n",
    "    s = s[start_i:end_i,start_j:end_j].ravel() # flatten the result to convert into set\n",
    "    box_num = boxset - set(s) # difference between possible number = overall - already used\n",
    "    return box_num # set form\n",
    "    "
   ]
  },
  {
   "cell_type": "code",
   "execution_count": 9,
   "id": "b2ff7205",
   "metadata": {},
   "outputs": [
    {
     "data": {
      "text/plain": [
       "{1, 3, 5, 7, 8, 9}"
      ]
     },
     "execution_count": 9,
     "metadata": {},
     "output_type": "execute_result"
    }
   ],
   "source": [
    "check_box(s,0,0)"
   ]
  },
  {
   "cell_type": "code",
   "execution_count": 10,
   "id": "78b97aa5",
   "metadata": {
    "scrolled": true
   },
   "outputs": [
    {
     "data": {
      "text/plain": [
       "array([[0, 4, 0, 0, 0, 0, 1, 7, 9],\n",
       "       [0, 0, 2, 0, 0, 8, 0, 5, 4],\n",
       "       [0, 0, 6, 0, 0, 5, 0, 0, 8],\n",
       "       [0, 8, 0, 0, 7, 0, 9, 1, 0],\n",
       "       [0, 5, 0, 0, 9, 0, 0, 3, 0],\n",
       "       [0, 1, 9, 0, 6, 0, 0, 4, 0],\n",
       "       [3, 0, 0, 4, 0, 0, 7, 0, 0],\n",
       "       [5, 7, 0, 1, 0, 0, 2, 0, 0],\n",
       "       [9, 2, 8, 0, 0, 0, 0, 6, 0]])"
      ]
     },
     "execution_count": 10,
     "metadata": {},
     "output_type": "execute_result"
    }
   ],
   "source": [
    "s"
   ]
  },
  {
   "cell_type": "code",
   "execution_count": 11,
   "id": "0cd65881",
   "metadata": {},
   "outputs": [],
   "source": [
    "while 0 in s:   # while 0 in sudoku\n",
    "    for i in range(0,9): # row going though 0 to 8\n",
    "        for j in range(0,9): # col going though 0 to 8\n",
    "            if s[i,j]==0: # if the cell in s[i,j] is 0\n",
    "                row= check_row(s,i) # possible number by checking row\n",
    "                col=check_col(s,j) # possible number by checking col\n",
    "                box=check_box(s,i,j) # possible number by checking box\n",
    "                common = row & col & box # intersection of all three possible number sets\n",
    "                if len(common) ==1: # if only 1 number available\n",
    "                    onlynum = common.pop() # pop the result from set \n",
    "                    s[i,j]=onlynum # replace the 0 into result number"
   ]
  },
  {
   "cell_type": "code",
   "execution_count": 12,
   "id": "719577c0",
   "metadata": {},
   "outputs": [],
   "source": [
    "# print the matrix into nice sudoku \n",
    "def print_sudoku(arr): # arr is a 9x9 numpy array\n",
    "    for i in range(9):\n",
    "        for j in range(9):\n",
    "            x = arr[i, j] if arr[i, j] != 0 else \".\"\n",
    "            print(f\" {x} \", end=\"\")\n",
    "            if j in [2, 5]:\n",
    "                print(\"\\u2551\", end=\"\")\n",
    "        print(\"\")\n",
    "        if i in [2, 5]:\n",
    "            print(\"\\u2550\"*9 + \"\\u256C\" + \"\\u2550\"*9 + \"\\u256C\" + \"\\u2550\"*9)"
   ]
  },
  {
   "cell_type": "code",
   "execution_count": 13,
   "id": "73f9bc36",
   "metadata": {},
   "outputs": [
    {
     "name": "stdout",
     "output_type": "stream",
     "text": [
      " 8  4  5 ║ 6  3  2 ║ 1  7  9 \n",
      " 7  3  2 ║ 9  1  8 ║ 6  5  4 \n",
      " 1  9  6 ║ 7  4  5 ║ 3  2  8 \n",
      "═════════╬═════════╬═════════\n",
      " 6  8  3 ║ 5  7  4 ║ 9  1  2 \n",
      " 4  5  7 ║ 2  9  1 ║ 8  3  6 \n",
      " 2  1  9 ║ 8  6  3 ║ 5  4  7 \n",
      "═════════╬═════════╬═════════\n",
      " 3  6  1 ║ 4  2  9 ║ 7  8  5 \n",
      " 5  7  4 ║ 1  8  6 ║ 2  9  3 \n",
      " 9  2  8 ║ 3  5  7 ║ 4  6  1 \n"
     ]
    }
   ],
   "source": [
    "print_sudoku(s)"
   ]
  },
  {
   "cell_type": "code",
   "execution_count": null,
   "id": "b52c49e0",
   "metadata": {},
   "outputs": [],
   "source": []
  }
 ],
 "metadata": {
  "kernelspec": {
   "display_name": "Python 3 (ipykernel)",
   "language": "python",
   "name": "python3"
  },
  "language_info": {
   "codemirror_mode": {
    "name": "ipython",
    "version": 3
   },
   "file_extension": ".py",
   "mimetype": "text/x-python",
   "name": "python",
   "nbconvert_exporter": "python",
   "pygments_lexer": "ipython3",
   "version": "3.9.12"
  }
 },
 "nbformat": 4,
 "nbformat_minor": 5
}
